{
 "cells": [
  {
   "cell_type": "code",
   "execution_count": 1,
   "id": "77452979",
   "metadata": {},
   "outputs": [
    {
     "data": {
      "text/html": [
       "<style>    span.str {color:#BA2121; font-style:italic; font-weight:bold;}    span.num {color:#080; font-style:italic; font-weight:bold;}    span.bltn {color:#080; font-weight:bold;}    span.op {color:#AA22FF;}    span.func {color:#00F; font-weight:bold;}    h3.yt {color:#009900; font-style:italic;}    span.yt {color:#009900; font-style:italic;}</style>"
      ],
      "text/plain": [
       "<IPython.core.display.HTML object>"
      ]
     },
     "execution_count": 1,
     "metadata": {},
     "output_type": "execute_result"
    }
   ],
   "source": [
    "# Use of IPython.display and HTML for using css to format text in Markdown based on\n",
    "# www.dataquest.io/blog/advanced-jupyter-notebooks-tutorial\n",
    "from IPython.display import HTML\n",
    "HTML(\n",
    "    \"<style>\\\n",
    "    span.str {color:#BA2121; font-style:italic; font-weight:bold;}\\\n",
    "    span.num {color:#080; font-style:italic; font-weight:bold;}\\\n",
    "    span.bltn {color:#080; font-weight:bold;}\\\n",
    "    span.op {color:#AA22FF;}\\\n",
    "    span.func {color:#00F; font-weight:bold;}\\\n",
    "    h3.yt {color:#009900; font-style:italic;}\\\n",
    "    span.yt {color:#009900; font-style:italic;}</style>\"\n",
    ")"
   ]
  },
  {
   "cell_type": "markdown",
   "id": "d7ac8ef1",
   "metadata": {},
   "source": [
    "<h2><b><u>Case Study: Online Data in BeautifulSoup</u></b></h2>\n",
    "\n",
    "<h3><b><i>Background</i></b></h3>\n",
    "It is important to learn how to access data sources that are stored online. Most of the data you've encountered in this course so far was originally found online. In this Case Study, you'll practice accessing <b><i>data hosted online</i></b> using libraries and solutions based on what you've learned from DataCamp's <a href = \"https://learn.datacamp.com/courses/intermediate-importing-data-in-python\"> Intermediate Importing Data in Python</a>. You'll also expand your knowledge by working with different datasets and the <b><i>Socrata Open Data API</i></b>. \n",
    "\n",
    "<h3><b><i>Goal</i></b></h3>\n",
    "The goal of this Case Study is to become more familiar with accessing <b><i>data hosted online</i></b> using Python. This can be divided into several components.\n",
    "<ul>\n",
    "    <li>Requesting online resources such as <b><i>webpages</i></b> using <b><i>urllib and requests libraries</i></b>. Working with the request's returned <b><i>HTML</i></b> results using <b><i>BeautifulSoup</i></b>.</li>\n",
    "    <li>Requesting online resources through a <b><i>REST endpoint</i></b> using the <b><i>requests</i></b> library. Working with the returned <b><i>JSON</i></b> result using <b><i>pandas</i></b>.</li>\n",
    "    <li>Requesting online resources through a <b><i>REST endpoint</i></b> using <b><i>urlopen</i></b>. Working with the returned <b><i>file-type data</i></b> and converting it to a <b><i>pandas DataFrame</i></b>.</li>\n",
    "    <li>Using an <b><i>API</i></b> to access a dataset. You will use the <b><i>Socrata Open Data API</i></b> and the <b><i>sodapy</i></b> library to access the data.</li>\n",
    "</ul>\n",
    "\n",
    "<h3><b><i>Data</i></b></h3>\n",
    "You will work with two different data resources in this Case Study. The first is the <b><i>University of Arkansas's Undergraduate Catalog Data Science (DTSC) webpage</i></b> [1]. The second is <b><i>New York State Energy Research and Development Authority (NYSERDA) Estimated Gasoline Sales: Beginning 1995 dataset</i></b> [2]. This dataset contains the estimated yearly amount of gasoline sales by thousands of gallons per county in New York. You will download the <b><i>Estimated Gasoline Sales</i></b> data in <b><i>JSON</i></b> format, practice extracting and formatting the necessary data from the <b><i>JSON object</i></b>, and analyze this data. You will also practice using <b><i>APIs</i></b> by accessing the <b><i>Estimated Gasoline Sales</i></b> data through its <b><i>Socrata Open Data API</i></b> endpoint. The <b><i>Socrata Open Data API</i></b> is chosen for this Case Study because it does not require you to sign up for an <b><i>API key</i></b> to access public data through it. \n",
    "    \n",
    "<h3><b><i>Additional Requirements</i></b></h3>\n",
    "If you do not already have the <b><i>sodapy</i></b> Python library installed, you will need to install it using <b><i>pip</i></b>. Installation instructions can be found at <a href=\"https://pypi.org/project/sodapy/\">PyPi</a>. \n",
    "  \n",
    "Sources: \n",
    "<ol style = \"font-size:8px\">\n",
    "    <li>University of Arkansas. 2021. Data Science (DTSC). 2021-2022 Catalog. https://catalog.uark.edu/undergraduatecatalog/collegesandschools/interdisciplinarystudies/datasciencedasc/. </li>\n",
    "    <li>New York State Energy Research and Development Authority. 2021. \"Estimated Gasoline Sales: Beginning 1995\". https://data.ny.gov/Energy-Environment/Estimated-Gasoline-Sales-Beginning-1995/cwrk-j5nn. </li>\n",
    "</ol>\n",
    "\n"
   ]
  },
  {
   "cell_type": "markdown",
   "id": "82d92b13",
   "metadata": {},
   "source": [
    "<h3> Using HTTP and HTML</h3>\n",
    "In the section below, you will practice requesting and accessing internet resources through <b><i>HTTP requests</i></b>. We will use two different libraries for this, <b><i>urllib</i></b> and <b><i>requests</i></b>. The <b><i>BeautifulSoup</i></b> package from <b><i>bs4</i></b> will be used to parse and format the <b><i>requests</i></b>. \n",
    "\n",
    "The <span class=\"bltn\">import</span> statements below have been completed for you. Notice that we will not <span class=\"bltn\">import</span> everything from <b><i>urllib</i></b>. Only the <b><i>Request, URLError</i></b> and <b><i>HTTPError</i></b> classes and the <b><i>urlopen</i></b> function will be used. \n",
    "\n",
    "<h4><u>Import Statements</i></h4>"
   ]
  },
  {
   "cell_type": "code",
   "execution_count": 2,
   "id": "25d552d6",
   "metadata": {},
   "outputs": [],
   "source": [
    "# Import\n",
    "from urllib.request import Request, urlopen\n",
    "from urllib.error import URLError, HTTPError \n",
    "\n",
    "import requests\n",
    "from bs4 import BeautifulSoup\n",
    "\n",
    "import pandas as pd\n",
    "import matplotlib.pyplot as plt\n",
    "import numpy as np\n"
   ]
  },
  {
   "cell_type": "markdown",
   "id": "ee278a88",
   "metadata": {},
   "source": [
    "<h4><u>Requesting a URL with Urllib</u></h4>\n",
    "\n",
    "In the code cell below, a <span class=\"str\">string uark_url</span> is created which specifies the <b><i>url</i></b> to access Data Science page in the University of Arkansas's Undergraduate Catalog. A <b><i>Request</i></b> object is created and <span class = \"str\">uark_url</span> is passed in the constructor. Next, <b>urlopen</b> is used to send the request to the server and the <b><i>response</i></b> is stored. The contents of the response are then read into a variable <b><i>html_page</i></b> using <b><i>urlopen's</i></b> <b>read</b> method. The <b><i>html_page</i></b> variable is then <span class=\"bltn\">printed</span> and the <b><i>request</i></b> closed using <b><i>urllib's</i></b> <b>close</b> method. It is good practice to close the <b><i>HTTP</i></b> connection when done. \n",
    "\n",
    "Sometimes there might be an error with how an <b><i>HTTP request</i></b> is formatted or with the server the request is being made to. In order to handle potential errors, <span class=\"bltn\">try and except</span> blocks are used. You do not have to understand the particular errors handled at this point. If interested, more information on <b><i>HTTPError</i></b> and <b><i>URLError</i></b> can be found <a href = \"https://docs.python.org/3/howto/urllib2.html#handling-exceptions\"> here </a>.\n",
    "\n",
    "As you practice more with making HTTP requests, it is important to remember to <b><i>avoid spamming a server with multiple repeated requests.</i></b>\n"
   ]
  },
  {
   "cell_type": "code",
   "execution_count": 1,
   "id": "cebe3a9c",
   "metadata": {},
   "outputs": [
    {
     "ename": "SyntaxError",
     "evalue": "invalid syntax (<ipython-input-1-42723aec5cb4>, line 7)",
     "output_type": "error",
     "traceback": [
      "\u001b[1;36m  File \u001b[1;32m\"<ipython-input-1-42723aec5cb4>\"\u001b[1;36m, line \u001b[1;32m7\u001b[0m\n\u001b[1;33m    req =\u001b[0m\n\u001b[1;37m          ^\u001b[0m\n\u001b[1;31mSyntaxError\u001b[0m\u001b[1;31m:\u001b[0m invalid syntax\n"
     ]
    }
   ],
   "source": [
    "# Try and except error handling based on usage in: https://docs.python.org/3/howto/urllib2.html\n",
    "\n",
    "# String of the URL to open. \n",
    "uark_url = \"https://catalog.uark.edu/undergraduatecatalog/collegesandschools/interdisciplinarystudies/datasciencedasc/\"\n",
    "\n",
    "# Create Request object and pass the uark_url to it. \n",
    "req = \n",
    "\n",
    "try:\n",
    "    # Open the url (Send HTTP request) using urlopen(req)\n",
    "    response = \n",
    "    \n",
    "    # Read in the html page using response.read()\n",
    "    html_page = \n",
    "\n",
    "    # Print the returned response html_page\n",
    "\n",
    "    # Terminate connection using response.close()\n",
    "    response.close()\n",
    "    \n",
    "except HTTPError as e:\n",
    "    print(\"HTTP Error: \", e.code)\n",
    "except URLError as e:\n",
    "    print(\"URL Error: \", e.reason)"
   ]
  },
  {
   "cell_type": "markdown",
   "id": "cd6fd886",
   "metadata": {},
   "source": [
    "<h4><u>Requesting a URL with Requests and Parsing with Beautiful Soup</u></h4>\n",
    "\n",
    "In the code below, you will use <b><i>BeautifulSoup</i></b> and <b><i>Request</i></b> libraries to extract data from the web page specified by <span class=\"str\">uark_url</span>. The <b>get</b> method is used to make a <b><i>HTTP GET request</i></b> by passing in the variable <span class=\"str\">uark_url</span>. The variable <b><i>html_page</i></b> stores the response and the <b><i>request</i></b> is closed using the <b>close</b> method. \n",
    "\n",
    "A <b><i>BeautifulSoup</i></b> object, (<b><i>soup_obj)</i></b>, is created and <b><i>html_page</i></b> is specified as the the <b><i>url response</i></b> to parse. The type of <b><i>parser</i></b> to use is specified as <span class=\"str\">html.parser</span>. This tells the <b><i>BeautifulSoup</i></b> object to parse the response as HTML. Instead of viewing the HTML as one long string, the <b><i>Beautiful Soup class</i></b> <b>prettify</b> method is used to convert the parsed HTML into a human readable format including indentations and new lines. \n",
    "\n",
    "The <b><i>BeautifulSoup</i></b> code in this Case Study was developed using the <a href = \"https://www.crummy.com/software/BeautifulSoup/bs4/doc/\"> BeautifulSoup Documentation</a> as reference. The documentation page is a good place to start for finding out how-to use <b><i>BeautifulSoup</i></b> to parse a webpage. "
   ]
  },
  {
   "cell_type": "code",
   "execution_count": 2,
   "id": "c0357dd5",
   "metadata": {},
   "outputs": [
    {
     "ename": "SyntaxError",
     "evalue": "invalid syntax (<ipython-input-2-0c772c191143>, line 2)",
     "output_type": "error",
     "traceback": [
      "\u001b[1;36m  File \u001b[1;32m\"<ipython-input-2-0c772c191143>\"\u001b[1;36m, line \u001b[1;32m2\u001b[0m\n\u001b[1;33m    req =\u001b[0m\n\u001b[1;37m          ^\u001b[0m\n\u001b[1;31mSyntaxError\u001b[0m\u001b[1;31m:\u001b[0m invalid syntax\n"
     ]
    }
   ],
   "source": [
    "# Create a HTTP GET request using requests.get() with the uark_url string. Store the returned response in the req variable. \n",
    "req = "
   ]
  },
  {
   "cell_type": "code",
   "execution_count": 3,
   "id": "b78b3fcc",
   "metadata": {},
   "outputs": [
    {
     "ename": "SyntaxError",
     "evalue": "invalid syntax (<ipython-input-3-40fac90ca87f>, line 3)",
     "output_type": "error",
     "traceback": [
      "\u001b[1;36m  File \u001b[1;32m\"<ipython-input-3-40fac90ca87f>\"\u001b[1;36m, line \u001b[1;32m3\u001b[0m\n\u001b[1;33m    html_page =\u001b[0m\n\u001b[1;37m                ^\u001b[0m\n\u001b[1;31mSyntaxError\u001b[0m\u001b[1;31m:\u001b[0m invalid syntax\n"
     ]
    }
   ],
   "source": [
    "# Begin a new cell to avoid accidentally making the same request multiple times. \n",
    "# Access the contents of the response  by specifying text encoding (Hint: .text)\n",
    "html_page = \n",
    "\n",
    "# Close the request \n",
    "req.close() \n",
    "\n",
    "# Create BeautifulSoup object and pass the text response. Hint: BeautifulSoup(html_page, 'html.parser')\n",
    "soup_obj = \n",
    "\n",
    "# Access the BeautifulSoup object's contents and display in an easy-to-read format using .prettify()\n",
    "pr_soup_obj = \n",
    "\n",
    "# Print the prettify() result\n"
   ]
  },
  {
   "cell_type": "markdown",
   "id": "be9ffe4e",
   "metadata": {},
   "source": [
    "<h4><u>Accessing HTML Elements using BeautifulSoup</u></h4>\n",
    "\n",
    "Now that we have the contents of the web page, let's extract some data. First we'll extract <b><i> HTML title tag (element)</i></b> of the web page by specifying the <b><i>.title</i></b> attribute and <span class=\"bltn\">print</span> the result. The term <b><i>HTML tag</i></b> corresponds to the <b><i>\"\\<title>\\\"</i></b> and <b><i>\"\\</title>\\\"</i></b> as the start and end tag respectively, while the term <b><i>HTML element</i></b> indicates the starting title tag, the text between the tags, and the ending title tag . If you'd like to learn more about differnt HTML elements, the <a href = \"https://www.w3schools.com/html/html_elements.asp\">W3 School's HTML Elements</a> is a good starting point. "
   ]
  },
  {
   "cell_type": "code",
   "execution_count": 4,
   "id": "0651f740",
   "metadata": {},
   "outputs": [],
   "source": [
    "# Print the title element of the web page using soup_obj.title\n"
   ]
  },
  {
   "cell_type": "markdown",
   "id": "b4ff0f16",
   "metadata": {},
   "source": [
    "The result of the code cell above, returns the full <b><i>HTML element</i></b> including beginning and ending <b><i>title tags</i></b>. What if you just want to return the text between the tags? In that case, you can use <b><i>.text</i></b> after the <b><i>title</i></b> title attribute. Repeat the code in the cell above, but add <b><i>.text</i></b> to the end of <b><i>title</i></b>."
   ]
  },
  {
   "cell_type": "code",
   "execution_count": 10,
   "id": "6a40ad2f",
   "metadata": {},
   "outputs": [
    {
     "name": "stdout",
     "output_type": "stream",
     "text": [
      "Data Science (DTSC) < University of Arkansas\n"
     ]
    }
   ],
   "source": [
    "# Print the contents  of the title element with .text\n"
   ]
  },
  {
   "cell_type": "markdown",
   "id": "14873757",
   "metadata": {},
   "source": [
    "<h4><u>Parsing Multiple Tags in Beautiful Soup</u></h4>\n",
    "\n",
    "In the example above, you worked with a single tag. However, tags can be repeated many times on an HTML page. In the code cell below, the <b>find</b> method is used to first find the <b><i>div tag</i></b> with the unique <b><i>id</i></b> of <span class=\"str\">textcontainer</span> and store its contents in the variable <b><i>sel_div</i></b>. Within this <b><i>div</i></b>, the <b><i>li</i></b> tag occurs multiple times within the <b><i>ul</i></b> tag. First, the <b><i>ul</i></b> tag is searched for in <b><i>sel_div</i></b> using the find method, then all instances of <b><i>li</i></b> within <b><i>ul</i></b> are searched for and returned as a <span class=\"bltn\">list</span> stored in the variable <b><i>li_tags</i></b>. Finally each <b><i>li</i></b> element extracted is iterated over with a <span class=\"bltn\">for</span> loop and the contents between the <b><i>li</i></b> tag printed using <span class=\"bltn\">print</span> and <b>.text</b>. \n",
    "\n",
    "The results of <b><i>parsing</i></b> show <span class=\"num\">6</span> skills you will learn as part of the Data Science program. "
   ]
  },
  {
   "cell_type": "code",
   "execution_count": 5,
   "id": "70b26c87",
   "metadata": {},
   "outputs": [
    {
     "ename": "NameError",
     "evalue": "name 'soup_obj' is not defined",
     "output_type": "error",
     "traceback": [
      "\u001b[1;31m---------------------------------------------------------------------------\u001b[0m",
      "\u001b[1;31mNameError\u001b[0m                                 Traceback (most recent call last)",
      "\u001b[1;32m<ipython-input-5-844f5b1bda82>\u001b[0m in \u001b[0;36m<module>\u001b[1;34m\u001b[0m\n\u001b[0;32m      1\u001b[0m \u001b[1;31m# Print some of the skills you will learn as part of the Data Science program.\u001b[0m\u001b[1;33m\u001b[0m\u001b[1;33m\u001b[0m\u001b[1;33m\u001b[0m\u001b[0m\n\u001b[0;32m      2\u001b[0m \u001b[1;31m# Find the div tag with textcontainer as the id.\u001b[0m\u001b[1;33m\u001b[0m\u001b[1;33m\u001b[0m\u001b[1;33m\u001b[0m\u001b[0m\n\u001b[1;32m----> 3\u001b[1;33m \u001b[0msel_div\u001b[0m \u001b[1;33m=\u001b[0m \u001b[0msoup_obj\u001b[0m\u001b[1;33m.\u001b[0m\u001b[0mfind\u001b[0m\u001b[1;33m(\u001b[0m\u001b[0mid\u001b[0m \u001b[1;33m=\u001b[0m \u001b[1;34m\"textcontainer\"\u001b[0m\u001b[1;33m)\u001b[0m\u001b[1;33m\u001b[0m\u001b[1;33m\u001b[0m\u001b[0m\n\u001b[0m\u001b[0;32m      4\u001b[0m \u001b[1;33m\u001b[0m\u001b[0m\n\u001b[0;32m      5\u001b[0m \u001b[1;31m# The first instance of an unordered list tag within the sel_div. Within that ul tag find all li tags.\u001b[0m\u001b[1;33m\u001b[0m\u001b[1;33m\u001b[0m\u001b[1;33m\u001b[0m\u001b[0m\n",
      "\u001b[1;31mNameError\u001b[0m: name 'soup_obj' is not defined"
     ]
    }
   ],
   "source": [
    "# Print some of the skills you will learn as part of the Data Science program. \n",
    "# Find the div tag with textcontainer as the id. \n",
    "sel_div = soup_obj.find(id = \"textcontainer\")\n",
    "\n",
    "# The first instance of an unordered list tag within the sel_div. Within that ul tag find all li tags. \n",
    "li_tags = sel_div.find(\"ul\").find_all(\"li\")\n",
    "\n",
    "# Print each item in the li_tagslist. Use a For loop\n"
   ]
  },
  {
   "cell_type": "markdown",
   "id": "337d615c",
   "metadata": {},
   "source": [
    "<h3>Working with JSON data</h3>\n",
    "In this section you will work with importing data in <b><i>JSON</i></b> format and the <b><i>requests</i></b> library."
   ]
  },
  {
   "cell_type": "markdown",
   "id": "dfd2543c",
   "metadata": {},
   "source": [
    "<h4><u>Requesting JSON data with Requests</u></h4>\n",
    "\n",
    "Making a <b><i>request</i></b> to a server to return <b><i>JSON</i></b> is very similar to the requests you previously made. The <b><i>requests</i></b> library is used to send a <b><i>GET</i></b> request using the <b>get</b>method. The variable <span class=\"str\">gas_url</span> stores a string specifying that the server (data.ny.gov) return the results of the specified resource (cwrk-j5nn) of the <b><i>GET</i></b> request as <b><i>JSON</i></b>. \n",
    "\n",
    "The returned result from the server is then decoded into <b><i>JSON</i></b> format using the <b>json</b> method. The request to the server is then closed using the <b>close</b> method. "
   ]
  },
  {
   "cell_type": "code",
   "execution_count": 6,
   "id": "c7444f90",
   "metadata": {},
   "outputs": [
    {
     "ename": "NameError",
     "evalue": "name 'requests' is not defined",
     "output_type": "error",
     "traceback": [
      "\u001b[1;31m---------------------------------------------------------------------------\u001b[0m",
      "\u001b[1;31mNameError\u001b[0m                                 Traceback (most recent call last)",
      "\u001b[1;32m<ipython-input-6-3366bf40a495>\u001b[0m in \u001b[0;36m<module>\u001b[1;34m\u001b[0m\n\u001b[0;32m      3\u001b[0m \u001b[1;33m\u001b[0m\u001b[0m\n\u001b[0;32m      4\u001b[0m \u001b[1;31m# Open request and store response in traffic_res by using request.get(gas_url)\u001b[0m\u001b[1;33m\u001b[0m\u001b[1;33m\u001b[0m\u001b[1;33m\u001b[0m\u001b[0m\n\u001b[1;32m----> 5\u001b[1;33m \u001b[0mgas_res\u001b[0m \u001b[1;33m=\u001b[0m \u001b[0mrequests\u001b[0m\u001b[1;33m.\u001b[0m\u001b[0mget\u001b[0m\u001b[1;33m(\u001b[0m\u001b[0mgas_url\u001b[0m\u001b[1;33m)\u001b[0m\u001b[1;33m\u001b[0m\u001b[1;33m\u001b[0m\u001b[0m\n\u001b[0m\u001b[0;32m      6\u001b[0m \u001b[1;33m\u001b[0m\u001b[0m\n\u001b[0;32m      7\u001b[0m \u001b[1;31m# Decode as json using gas_res.json()\u001b[0m\u001b[1;33m\u001b[0m\u001b[1;33m\u001b[0m\u001b[1;33m\u001b[0m\u001b[0m\n",
      "\u001b[1;31mNameError\u001b[0m: name 'requests' is not defined"
     ]
    }
   ],
   "source": [
    "# URL \n",
    "gas_url = \"https://data.ny.gov/api/views/cwrk-j5nn/rows.json?accessType=DOWNLOAD\"\n",
    "\n",
    "# Open request and store response in traffic_res by using request.get(gas_url)\n",
    "gas_res = \n",
    "\n",
    "# Decode as json using gas_res.json()\n",
    "gas_json = \n",
    "\n",
    "# Close response\n",
    "gas_res.close()"
   ]
  },
  {
   "cell_type": "markdown",
   "id": "6aa56d6d",
   "metadata": {},
   "source": [
    "Once the <b><i>response</i></b> to the <b><i>request</i></b> has been returned and the connection closed, the resulting <b><i>JSON</i></b> data can be worked with. A new code cell is created below to prevent running the same <b><i>GET</i></b> request multiple times unnecessarily. Let's take a look at the <span class=\"bltn\">type</span> of data the request returned and <span class=\"bltn\">print</span> the result. Also <span>print</span> the <b><i>JSON</i></b> data. "
   ]
  },
  {
   "cell_type": "code",
   "execution_count": 7,
   "id": "6d761c75",
   "metadata": {},
   "outputs": [],
   "source": [
    "# # Begin a new cell to avoid accidentally making the same request multiple times. # # \n",
    "\n",
    "# Print the data type of gas_json. Note that it is a dictionary. \n",
    "\n",
    "# Print traffic_json. \n"
   ]
  },
  {
   "cell_type": "markdown",
   "id": "e473a204",
   "metadata": {},
   "source": [
    "<h4><u>Working with Requests JSON Response</u></h4>\n",
    "\n",
    "The results of the code cell above show that the decoded <b><i>JSON</i></b> data stored in the variable <b><i>gas_json</i></b> from using <b><i>Requests</i></b> <b>.json</b> method is stored as a Python <span class=\"bltn\">dictionary</span>. Let's see what <b><i>keys</i></b> the dictionary has using the <b>.keys()</b> method. "
   ]
  },
  {
   "cell_type": "code",
   "execution_count": 8,
   "id": "ee086c98",
   "metadata": {},
   "outputs": [],
   "source": [
    "# Print the keys in gas_json\n"
   ]
  },
  {
   "cell_type": "markdown",
   "id": "bb647336",
   "metadata": {},
   "source": [
    "The <span class=\"bltn\">dictionary</span> <b><i>gas_json</i></b> has two keys. The <b><i>values</i></b> for both were examined outside of this Case Study and the key <span class=\"str\">data</span> is the one we need to use to be able to access the actual data of interest. If you're interested in seeing <b><i>values</i></b> of the <span class=\"str\">meta</span> key you can add a Code cell below to view them. \n",
    "\n",
    "Let's see what the data <span class=\"bltn\">type</span> that the <b><i>value</i></b> returned by the <b><i>key</i></b> <span class=\"span\">data</span> is. "
   ]
  },
  {
   "cell_type": "code",
   "execution_count": 9,
   "id": "f0aafe37",
   "metadata": {},
   "outputs": [],
   "source": [
    "# Print the type of gas_json['data']. Note that it is a nested list\n"
   ]
  },
  {
   "cell_type": "markdown",
   "id": "fb2d6fc7",
   "metadata": {},
   "source": [
    "The value returned by the <span class=\"str\">data</span> <b><i>key</i></b> are a <span class=\"bltn\">list</span>. This <span class=\"bltn\"> list</span> is actually a <span class=\"bltn\">nested list</span> and each sublist contains a row of data in the <b><i>Estimated Gasoline Sales</i></b> dataset. This means that we can read the values in that <span class=\"bltn\">list</span> into a <b><i>pandas DataFrame</i></b>. "
   ]
  },
  {
   "cell_type": "markdown",
   "id": "3f91253b",
   "metadata": {},
   "source": [
    "<h4><u>Working with JSON data in Pandas</u></h4>\n",
    "\n",
    "You saw in the Code cells above that the data type of the value returned by the <span class=\"str\">data</span> <b><i>key</i></b> is a <span class=\"bltn\">list</span>. Using this, we can read the <span class=\"bltn\">nested list</span> into pandas as a <b><i>DataFrame</i></b> by passing it into the <b><i>DataFrame()</i></b> constructor. \n",
    "\n",
    "For this Case Study, only three columns are of interest to us: the <i>Year</i> the estimate is being reported, the <i>County</i> it is reported from, and the <i>Estimated Sales</i> in thousands of gallons for that county for that year. The first <span class=\"num\">8</span> columns of the <b><i>gas_df DataFrame</i></b> are removed using the <b>.drop</b> method. "
   ]
  },
  {
   "cell_type": "code",
   "execution_count": 10,
   "id": "95d9a4ef",
   "metadata": {},
   "outputs": [
    {
     "ename": "NameError",
     "evalue": "name 'pd' is not defined",
     "output_type": "error",
     "traceback": [
      "\u001b[1;31m---------------------------------------------------------------------------\u001b[0m",
      "\u001b[1;31mNameError\u001b[0m                                 Traceback (most recent call last)",
      "\u001b[1;32m<ipython-input-10-a31ae0fb0c4e>\u001b[0m in \u001b[0;36m<module>\u001b[1;34m\u001b[0m\n\u001b[0;32m      1\u001b[0m \u001b[1;31m# Read gas_json['data'] into a pandas DataFrame. Only keep the last 3 columns as these contain the data of interest.\u001b[0m\u001b[1;33m\u001b[0m\u001b[1;33m\u001b[0m\u001b[1;33m\u001b[0m\u001b[0m\n\u001b[1;32m----> 2\u001b[1;33m \u001b[0mgas_df\u001b[0m \u001b[1;33m=\u001b[0m \u001b[0mpd\u001b[0m\u001b[1;33m.\u001b[0m\u001b[0mDataFrame\u001b[0m\u001b[1;33m(\u001b[0m\u001b[0mgas_json\u001b[0m\u001b[1;33m[\u001b[0m\u001b[1;34m'data'\u001b[0m\u001b[1;33m]\u001b[0m\u001b[1;33m)\u001b[0m\u001b[1;33m\u001b[0m\u001b[1;33m\u001b[0m\u001b[0m\n\u001b[0m\u001b[0;32m      3\u001b[0m \u001b[0mgas_df\u001b[0m\u001b[1;33m.\u001b[0m\u001b[0mdrop\u001b[0m\u001b[1;33m(\u001b[0m\u001b[0mgas_df\u001b[0m\u001b[1;33m.\u001b[0m\u001b[0mcolumns\u001b[0m\u001b[1;33m[\u001b[0m\u001b[1;36m0\u001b[0m\u001b[1;33m:\u001b[0m\u001b[1;36m8\u001b[0m\u001b[1;33m]\u001b[0m\u001b[1;33m,\u001b[0m \u001b[0maxis\u001b[0m \u001b[1;33m=\u001b[0m \u001b[1;36m1\u001b[0m\u001b[1;33m,\u001b[0m \u001b[0minplace\u001b[0m \u001b[1;33m=\u001b[0m \u001b[1;32mTrue\u001b[0m\u001b[1;33m)\u001b[0m\u001b[1;33m\u001b[0m\u001b[1;33m\u001b[0m\u001b[0m\n\u001b[0;32m      4\u001b[0m \u001b[1;33m\u001b[0m\u001b[0m\n\u001b[0;32m      5\u001b[0m \u001b[1;31m# Print/display the first 5 rows of gas_df\u001b[0m\u001b[1;33m\u001b[0m\u001b[1;33m\u001b[0m\u001b[1;33m\u001b[0m\u001b[0m\n",
      "\u001b[1;31mNameError\u001b[0m: name 'pd' is not defined"
     ]
    }
   ],
   "source": [
    "# Read gas_json['data'] into a pandas DataFrame. Only keep the last 3 columns as these contain the data of interest. \n",
    "gas_df = pd.DataFrame(gas_json['data'])\n",
    "gas_df.drop(gas_df.columns[0:8], axis = 1, inplace = True)\n",
    "\n",
    "# Print/display the first 5 rows of gas_df\n",
    "\n",
    "# Print the data types of the columns in gas_df\n"
   ]
  },
  {
   "cell_type": "markdown",
   "id": "271edb89",
   "metadata": {},
   "source": [
    "The output of the Code cell above shows that the the column names are numerical values. This makes it difficult to recall what the columns are actually representing. The <b><i>data type</i></b> for all columns is <b><i>object</i></b>. This is fine for the <i>Year</i> and <i>County</i> columns, however the <i>Estimated Sales</i> column needs to be converted to <span class=\"num\">float</span>. \n",
    "\n",
    "In the Code cell below, let's update the column names and convert the data type of the newly named <i>Estimated Sales</i> column to <span class=\"num\">float</span>. "
   ]
  },
  {
   "cell_type": "code",
   "execution_count": 11,
   "id": "08587817",
   "metadata": {},
   "outputs": [
    {
     "ename": "SyntaxError",
     "evalue": "invalid syntax (<ipython-input-11-063ea6fc8a9b>, line 3)",
     "output_type": "error",
     "traceback": [
      "\u001b[1;36m  File \u001b[1;32m\"<ipython-input-11-063ea6fc8a9b>\"\u001b[1;36m, line \u001b[1;32m3\u001b[0m\n\u001b[1;33m    gas_df.columns =\u001b[0m\n\u001b[1;37m                     ^\u001b[0m\n\u001b[1;31mSyntaxError\u001b[0m\u001b[1;31m:\u001b[0m invalid syntax\n"
     ]
    }
   ],
   "source": [
    "# Replace the column names with the values stored in the gas_col list\n",
    "gas_col = [\"Year\", \"County\", \"Estimated Sales\"]\n",
    "gas_df.columns = \n",
    "\n",
    "# Convert Estimated Sales column to floating point values and the year column to datetime\n",
    "gas_df = gas_df.astype({\"Estimated Sales\":float})\n",
    "\n",
    "# Print the first 5 rows of gas_df\n",
    "\n",
    "# Check the data types again to make sure Estimated Sales is now float\n"
   ]
  },
  {
   "cell_type": "markdown",
   "id": "554f35d2",
   "metadata": {},
   "source": [
    "<h4><u>Examining the Estimated Gasoline Sales Data</u></h4>\n",
    "    \n",
    "At this point, the <b><i>Estimated Gasoline Sales</i></b> data has been processed into a <b><i>pandas DataFrame, gas_df,</i></b> which we can use to explore the data more. \n",
    "\n",
    "For example, let's extract a new <b><i>View</i></b> of <b><i>gas_df</i></b> called <b><i>col_co_df</i></b> which contains all rows in which <i>County</i> is <span class=\"op\">equal to</span> <span class=\"str\">Columbia</span>. Display the first <span class=\"num\">5</span> rows. "
   ]
  },
  {
   "cell_type": "code",
   "execution_count": 12,
   "id": "c653fb8f",
   "metadata": {},
   "outputs": [
    {
     "ename": "NameError",
     "evalue": "name 'gas_df' is not defined",
     "output_type": "error",
     "traceback": [
      "\u001b[1;31m---------------------------------------------------------------------------\u001b[0m",
      "\u001b[1;31mNameError\u001b[0m                                 Traceback (most recent call last)",
      "\u001b[1;32m<ipython-input-12-9408a1f5eda2>\u001b[0m in \u001b[0;36m<module>\u001b[1;34m\u001b[0m\n\u001b[0;32m      1\u001b[0m \u001b[1;31m# Extract all rows from gas_df where County is Columbia\u001b[0m\u001b[1;33m\u001b[0m\u001b[1;33m\u001b[0m\u001b[1;33m\u001b[0m\u001b[0m\n\u001b[1;32m----> 2\u001b[1;33m \u001b[0mcol_co_df\u001b[0m \u001b[1;33m=\u001b[0m \u001b[0mgas_df\u001b[0m\u001b[1;33m[\u001b[0m\u001b[0mgas_df\u001b[0m\u001b[1;33m[\u001b[0m\u001b[1;34m\"County\"\u001b[0m\u001b[1;33m]\u001b[0m \u001b[1;33m==\u001b[0m \u001b[1;34m\"Columbia\"\u001b[0m\u001b[1;33m]\u001b[0m\u001b[1;33m\u001b[0m\u001b[1;33m\u001b[0m\u001b[0m\n\u001b[0m\u001b[0;32m      3\u001b[0m \u001b[1;33m\u001b[0m\u001b[0m\n\u001b[0;32m      4\u001b[0m \u001b[1;31m# Display the first 5 results\u001b[0m\u001b[1;33m\u001b[0m\u001b[1;33m\u001b[0m\u001b[1;33m\u001b[0m\u001b[0m\n",
      "\u001b[1;31mNameError\u001b[0m: name 'gas_df' is not defined"
     ]
    }
   ],
   "source": [
    "# Extract all rows from gas_df where County is Columbia\n",
    "col_co_df = gas_df[gas_df[\"County\"] == \"Columbia\"]\n",
    "\n",
    "# Display the first 5 results \n"
   ]
  },
  {
   "cell_type": "markdown",
   "id": "27d7c6b2",
   "metadata": {},
   "source": [
    "Now let's take a look at the <i>Estimated Sales</i> column. Calculate the <b><i>average</i></b> of the <i>Estimated Sales</i> column using <b>.mean</b>. <span class=\"bltn\">Round</span> the result to <span class=\"num\">2</span> decimal places and <span class=\"bltn\">print</span>. "
   ]
  },
  {
   "cell_type": "code",
   "execution_count": 14,
   "id": "ea9c2eb7",
   "metadata": {},
   "outputs": [
    {
     "name": "stdout",
     "output_type": "stream",
     "text": [
      "37244.45\n"
     ]
    }
   ],
   "source": [
    "# Note: Code in this cell is complete. Make sure to understand the code before running. \n",
    "\n",
    "# Calculate the average amount of gasoline sold for Columbia county. \n",
    "# Round the result to two decimals during printing\n",
    "print(round(col_co_df[\"Estimated Sales\"].mean(),2))"
   ]
  },
  {
   "cell_type": "markdown",
   "id": "0a3b7a43",
   "metadata": {},
   "source": [
    "Now let's plot the <i>Estimated Sales</i> column by year for <b><i>col_co_df</i></b>. The figure size is expanded by changing <b><i> Matplotlib's rcParams</i></b> <span class=\"bltn\">dictionary</span> based on <a href=\"https://matplotlib.org/stable/tutorials/introductory/customizing.html\">Matplotlib's Customizing Matplotlib with style sheets and rcParams</a> tutorial. This is not the only way the figure size can be set and throughout this course you will see multiple different ways in which <b><i>Matplotlib Visualizations</i></b> can be customized. \n",
    "\n",
    "The <b><i>title</i></b> will reference the attributes being displayed (<i>Estimated Sales per Year</i>) and the <i>County</i> it corresponds to (Columbia). In order to have the <i>Years</i> displayed in chronological order, <b><i>col_co_df</i></b> is sorted chronologically by <i>Year</i>. A <b><i>line graph</i></b> is displayed on the <b><i>figure</i></b> using <b>plt.plot</b> with the <i>Year</i> on the x-axis and the <i>Estimated Sales</i> on the y-axis. A <b><i>scatter plot</i></b> is then placed on the same <b><i>figure</i></b> using <b>plt.scatter</b> and the same arguments. "
   ]
  },
  {
   "cell_type": "code",
   "execution_count": 29,
   "id": "1b440e73",
   "metadata": {},
   "outputs": [
    {
     "data": {
      "image/png": "[encoded data removed]",
      "text/plain": [
       "<Figure size 864x288 with 1 Axes>"
      ]
     },
     "metadata": {
      "needs_background": "light"
     },
     "output_type": "display_data"
    }
   ],
   "source": [
    "# Note: Code in this cell is complete. Make sure to understand the code before running. \n",
    "\n",
    "# Plot the Estimated sales for Columbia County from 1995 - 2016\n",
    "# Modify the Figure to fit all years on x-axis\n",
    "plt.rcParams[\"figure.figsize\"] = (12,4)\n",
    "\n",
    "# Create a title and labels\n",
    "plt.title(\"Estimated Gasoline Sales for Columbia County, NY\")\n",
    "plt.xlabel(\"Year\")\n",
    "plt.ylabel(\"Thousands of Gallons\")\n",
    "\n",
    "# Sort the col_co DataFrame on year by ascending order. \n",
    "col_co_df = col_co_df.sort_values(by=[\"Year\"])\n",
    "\n",
    "# Plot the data using plot and scatter on the same figure. \n",
    "plt.plot(col_co_df[\"Year\"], col_co_df[\"Estimated Sales\"])\n",
    "plt.scatter(col_co_df[\"Year\"], col_co_df[\"Estimated Sales\"])\n",
    "\n",
    "# Show the plot\n",
    "plt.show()\n"
   ]
  },
  {
   "cell_type": "markdown",
   "id": "1e9a2d05",
   "metadata": {},
   "source": [
    "<h3>Working with APIs</h3>\n",
    "\n",
    "In the previous sections of this Case Study you accessed data by making <b><i>HTTP Requests</i></b> using <b><i>urllib</i></b> and <b><i>requests</i></b>. In this section you will work with the <b><i>Socrata Open Data API</i></b> to access the <b><i>Estimated Gasoline Sales</i></b> dataset in two additional formats:<b><i>csv</i><b> and as a <b><i>binary stream</i></b>. "
   ]
  },
  {
   "cell_type": "markdown",
   "id": "b29d2374",
   "metadata": {},
   "source": [
    "<h4><u>Socrata Open Data and Estimated Gasoline Sales as CSV</u></h4>\n",
    "\n",
    "In addition to returning the <b><i>Estimated Gasoline Sales</i></b> data as <b><i>JSON</i></b>, it can also be returned in <b><i>csv</i></b> format. First we'll specify the <b><i>base_url</i></b> variable. <b><i>Base_url</i></b> contains the specified url to request data from, <span class=\"str\">https://data.ny.gov</span>. It then specifies the resource of interest, <span class=\"str\">cwrk-j5nn</span> which is the unique identifier for the <b><i>Estimated Gasoline Sales</i></b> dataset.\n"
   ]
  },
  {
   "cell_type": "code",
   "execution_count": 30,
   "id": "ba648029",
   "metadata": {},
   "outputs": [],
   "source": [
    "# Set the base url for all requests regarding the Estimated Gasoline Sales data through the Socrata Open Data API. \n",
    "# You will append all other parts of the request to the API to this base_url. Do not modify this variable. \n",
    "base_url = \"https://data.ny.gov/resource/cwrk-j5nn\""
   ]
  },
  {
   "cell_type": "markdown",
   "id": "3cec2a30",
   "metadata": {},
   "source": [
    "Now that the <b><i>base_url</i></b> has been specified, it can be appended based on the <b><i>Socrata Open Data API</i></b>. More information can be found on the <b><i>Socrata Open Data</i></b> <a href = \"https://dev.socrata.com/consumers/getting-started.html\">here</a>. \n",
    "\n",
    "A <span class=\"bltn\">try and except </span> block is created to make the request using <b><i>urllib</i></b> <b>urlopen</b> method. To specify that the response should be <b><i>csv</i></b> <span class=\"str\">.csv</span> is appended to <b><i>base_url</i></b>. The <span class=\"str\">?</span>character is used to <b><i>filter</i></b> the returned response. In this example, only data on Columbia county should be returned by appending <span class=\"str\">?county=Columbia</span> after <span class=\"str\">csv</span>. The returned response is then read into a variable <b><i>respone</i></b> using <b>.read()</b> and the request closed using <b>.close</b>. \n",
    "\n",
    "<b><i>Remember to only run the Code cell below one time to avoid making multiple repeated requests to the server. </i></b>"
   ]
  },
  {
   "cell_type": "code",
   "execution_count": 31,
   "id": "8ebc43c4",
   "metadata": {},
   "outputs": [],
   "source": [
    "# Note: Code in this cell is complete. Make sure to understand the code before running. \n",
    "\n",
    "# Return all records in which the county is Columbia as a csv. Use urllib to do this. \n",
    "try: \n",
    "    html_page = urlopen((base_url+ \".csv?\" + \"county=Columbia\")) \n",
    "    response = html_page.read()\n",
    "    \n",
    "    html_page.close()\n",
    "except (HTTPError, URLError) as e: \n",
    "    print(e) "
   ]
  },
  {
   "cell_type": "markdown",
   "id": "9e1791d3",
   "metadata": {},
   "source": [
    "Let's see what the <span class=\"bltn\">type</span> of the <b><i>response</i></b> variable is and <span class=\"bltn\">print</span> the contents of it. "
   ]
  },
  {
   "cell_type": "code",
   "execution_count": 32,
   "id": "51107fad",
   "metadata": {},
   "outputs": [
    {
     "name": "stdout",
     "output_type": "stream",
     "text": [
      "<class 'bytes'>\n",
      "b'\"year\",\"county\",\"estimated_sales\"\\n\"2016\",\"Columbia\",\"40589\"\\n\"2015\",\"Columbia\",\"33670\"\\n\"2014\",\"Columbia\",\"35291\"\\n\"2013\",\"Columbia\",\"32661\"\\n\"2012\",\"Columbia\",\"33185\"\\n\"2011\",\"Columbia\",\"34637\"\\n\"2010\",\"Columbia\",\"35873\"\\n\"2009\",\"Columbia\",\"35334\"\\n\"2008\",\"Columbia\",\"37524\"\\n\"2007\",\"Columbia\",\"34364\"\\n\"2006\",\"Columbia\",\"39965\"\\n\"2005\",\"Columbia\",\"38886\"\\n\"2004\",\"Columbia\",\"40381\"\\n\"2003\",\"Columbia\",\"44458\"\\n\"2002\",\"Columbia\",\"42020\"\\n\"2001\",\"Columbia\",\"41304\"\\n\"2000\",\"Columbia\",\"37236\"\\n\"1999\",\"Columbia\",\"37449\"\\n\"1998\",\"Columbia\",\"36004\"\\n\"1997\",\"Columbia\",\"36078\"\\n\"1996\",\"Columbia\",\"36916\"\\n\"1995\",\"Columbia\",\"35553\"\\n'\n"
     ]
    }
   ],
   "source": [
    "# Print the data type of the response\n",
    "\n",
    "# Print the response\n"
   ]
  },
  {
   "cell_type": "markdown",
   "id": "a357df8f",
   "metadata": {},
   "source": [
    "We can see that the data <span class=\"bltn\">type</span> of <b><i>response</i></b> is of type <b>bytes</b>. When the <b><i>response</i></b> is <span class=\"bltn\">printed</span> the results appear similar to the <b><i>csv</i></b> format we have seen previously. Values are seperated by a <span class=\"str\">,</span> and the end each row of the data is specified by the <span class=\"str\">\\n<span> new line character. "
   ]
  },
  {
   "cell_type": "markdown",
   "id": "52169578",
   "metadata": {},
   "source": [
    "<h4><u>Reading a Bytes object into a Pandas DataFrame</u></h4>\n",
    "\n",
    "By consulting the <a href = \"https://docs.python.org/3/howto/urllib2.html\">Python urllib2 HOWTO Documentation</a> we can find out more information on the <b><i>response</i></b> variable's <b><i>Bytes-like</i></b> data <span class=\"bltn\">type</span>; more specifically it is a <b><i>file-type</i></b> object. \n",
    "\n",
    "In order to be read into a <b><i>pandas DataFrame</i></b> the <b><i>file-type</i></b> Object <b><i>response</i></b> must be convereted to a <b><i>Bytes</i></b> object using Python's <b><i>BytesIO</i></b> found in the <b><i>io</i></b> module. By consulting the <a href=\"https://docs.python.org/3/library/io.html\">Python io Documentation</a> we can see that by passing <b><i>response</i></b> as an argument to a <b><i>BytesIO</i></b> object, the returned result will be a <b><i>Bytes</i></b> object. This <b><i>BytesIO</i></b> object can then be passed to pandas <b>read_csv</b> method. The Code cell below is based on the <a href=\"https://pandas.pydata.org/pandas-docs/stable/user_guide/io.html\">pandas IO tools Documentation</a>, which in addition to working with <b><i>Byte</i></b> objects, shows how many different file types can be read into pandas. "
   ]
  },
  {
   "cell_type": "code",
   "execution_count": 33,
   "id": "ae3cd286",
   "metadata": {},
   "outputs": [
    {
     "data": {
      "text/html": [
       "<div>\n",
       "<style scoped>\n",
       "    .dataframe tbody tr th:only-of-type {\n",
       "        vertical-align: middle;\n",
       "    }\n",
       "\n",
       "    .dataframe tbody tr th {\n",
       "        vertical-align: top;\n",
       "    }\n",
       "\n",
       "    .dataframe thead th {\n",
       "        text-align: right;\n",
       "    }\n",
       "</style>\n",
       "<table border=\"1\" class=\"dataframe\">\n",
       "  <thead>\n",
       "    <tr style=\"text-align: right;\">\n",
       "      <th></th>\n",
       "      <th>year</th>\n",
       "      <th>county</th>\n",
       "      <th>estimated_sales</th>\n",
       "    </tr>\n",
       "  </thead>\n",
       "  <tbody>\n",
       "    <tr>\n",
       "      <th>0</th>\n",
       "      <td>2016</td>\n",
       "      <td>Columbia</td>\n",
       "      <td>40589</td>\n",
       "    </tr>\n",
       "    <tr>\n",
       "      <th>1</th>\n",
       "      <td>2015</td>\n",
       "      <td>Columbia</td>\n",
       "      <td>33670</td>\n",
       "    </tr>\n",
       "    <tr>\n",
       "      <th>2</th>\n",
       "      <td>2014</td>\n",
       "      <td>Columbia</td>\n",
       "      <td>35291</td>\n",
       "    </tr>\n",
       "  </tbody>\n",
       "</table>\n",
       "</div>"
      ],
      "text/plain": [
       "   year    county  estimated_sales\n",
       "0  2016  Columbia            40589\n",
       "1  2015  Columbia            33670\n",
       "2  2014  Columbia            35291"
      ]
     },
     "execution_count": 33,
     "metadata": {},
     "output_type": "execute_result"
    }
   ],
   "source": [
    "from io import BytesIO\n",
    "\n",
    "# Conversion to BytesIO based on: https://pandas.pydata.org/pandas-docs/stable/user_guide/io.html\n",
    "# Store the binary stream in buffer\n",
    "buffer_obj = BytesIO(response)\n",
    "\n",
    "# Read into pandas DataFrame using read_csv. This works because read_csv can take a file path or a buffer per its doc. \n",
    "col_df_new = pd.read_csv(buffer_obj)\n",
    "\n",
    "# Close the buffer \n",
    "buffer_obj.close()\n",
    "\n",
    "# Show the first 3 rows of the col_df_new DataFrame\n"
   ]
  },
  {
   "cell_type": "markdown",
   "id": "653921ba",
   "metadata": {},
   "source": [
    "<h4><u>Accessing the Socrata Open Data API with SodaPy</u></h4>\n",
    "\n",
    "Many API's have user-created libraries that help make the API easier to use. This is also the case with the <b><i>Socrata Open Data API</i></b> which has the Python library <b><i>sodapy</i></b>. More information on the <b><i>sodapy</i></b> library can be found <a href = \"https://github.com/xmunoz/sodapy\">here</a>. \n",
    "\n",
    "Sodapy simplifies the process of requesting data using the <b><i>Socrata Open Data</i></b> API by handling the HTTP request details. First <b><i>Socrata</i></b> needs to be <span class=\"bltn\">imported from </span> the <b><i>sodapy</i></b> library. A <b><i>Socrata</i></b> object can then be created specifying the <b><i>base url</i></b> to connect to, in this case <span class=\"str\">data.ny.gov</span> and the API key if needed. The <b><i>Socrata</i></b> object's <b>.get</b> method is then used to specify the specific resource (<span class=\"str\">cwrk-j5nn</span>) and specify what to return. \n",
    "\n",
    "The code in the cell below is based on the <a href = \"https://github.com/xmunoz/sodapy/tree/master/examples\">sodapy library's examples found on GitHub</a>. Additional information on how sodapy can be used can be found in the <a href = \"https://github.com/xmunoz/sodapy\">library's GitHub</a>. "
   ]
  },
  {
   "cell_type": "code",
   "execution_count": 34,
   "id": "e0ddee79",
   "metadata": {},
   "outputs": [
    {
     "name": "stderr",
     "output_type": "stream",
     "text": [
      "WARNING:root:Requests made without an app_token will be subject to strict throttling limits.\n"
     ]
    }
   ],
   "source": [
    "# Note: Code in this cell is complete. Make sure to understand the code before running. \n",
    "# Code based on: https://github.com/xmunoz/sodapy/tree/master/examples\n",
    "\n",
    "# Use Socrata and sodapy to access Estimated gas sales data\n",
    "from sodapy import Socrata\n",
    "\n",
    "\n",
    "# Create a Socrata object specifying the url to connect to as client\n",
    "client = Socrata(\"data.ny.gov\", None)\n",
    "\n",
    "# Specify the identifier of the Estimated gas sales data. \n",
    "# Return results where the year is after 2000, the estimated yearly sale is more than 100,000 and \n",
    "# the county name is not Statewide Total or New York State. \n",
    "results = client.get(\"cwrk-j5nn\", where = \"year > 2000 AND estimated_sales > 100000 AND (county != 'Statewide Total' AND county != 'New York State' )\")"
   ]
  },
  {
   "cell_type": "markdown",
   "id": "647e43db",
   "metadata": {},
   "source": [
    "<h4><u>Examining the Socrata Object</u></h4>\n",
    "\n",
    "Previously when the Socrata Open Data API was queried using urllib, the resulting object was returned as a <b><i>byte-like</i></b> object. The sodapy library returns the results as a <span class=\"bltn\">list</span> instead. Similar to how <b><i>ByteIO</i></b> was used above to convert the returned response into a <b><i>Byte</i></b> object, <b><i>sodapy</i></b> has taken additional steps to convert the response to a <span class=\"bltn\">list</span>. \n",
    "\n",
    "Let's <span class=\"bltn\">print</span> the <span class=\"bltn\">type</span> of the <b><i>results</i></b> variable. "
   ]
  },
  {
   "cell_type": "code",
   "execution_count": 13,
   "id": "c01160c3",
   "metadata": {},
   "outputs": [],
   "source": [
    "# Print the data type of the returned results \n"
   ]
  },
  {
   "cell_type": "markdown",
   "id": "327158f2",
   "metadata": {},
   "source": [
    "<h4><u>Sodapy and Pandas</u></h4>\n",
    "\n",
    "Since the returned response is stored as a <span class=\"bltn\">list</span> from using <b><i>sodapy's Socrata</i></b> object, it is easy to read <b><i>results</i></b> into a <b><i>pandas DataFrame</i></b> by using <b><i>DataFrame's</i></b> <b>from_records</b> method. "
   ]
  },
  {
   "cell_type": "code",
   "execution_count": 37,
   "id": "b4b160ff",
   "metadata": {},
   "outputs": [
    {
     "data": {
      "text/html": [
       "<div>\n",
       "<style scoped>\n",
       "    .dataframe tbody tr th:only-of-type {\n",
       "        vertical-align: middle;\n",
       "    }\n",
       "\n",
       "    .dataframe tbody tr th {\n",
       "        vertical-align: top;\n",
       "    }\n",
       "\n",
       "    .dataframe thead th {\n",
       "        text-align: right;\n",
       "    }\n",
       "</style>\n",
       "<table border=\"1\" class=\"dataframe\">\n",
       "  <thead>\n",
       "    <tr style=\"text-align: right;\">\n",
       "      <th></th>\n",
       "      <th>year</th>\n",
       "      <th>county</th>\n",
       "      <th>estimated_sales</th>\n",
       "    </tr>\n",
       "  </thead>\n",
       "  <tbody>\n",
       "    <tr>\n",
       "      <th>0</th>\n",
       "      <td>2013</td>\n",
       "      <td>Dutchess</td>\n",
       "      <td>100123</td>\n",
       "    </tr>\n",
       "    <tr>\n",
       "      <th>1</th>\n",
       "      <td>2007</td>\n",
       "      <td>Saratoga</td>\n",
       "      <td>100318</td>\n",
       "    </tr>\n",
       "    <tr>\n",
       "      <th>2</th>\n",
       "      <td>2016</td>\n",
       "      <td>Broome</td>\n",
       "      <td>100367</td>\n",
       "    </tr>\n",
       "  </tbody>\n",
       "</table>\n",
       "</div>"
      ],
      "text/plain": [
       "   year    county estimated_sales\n",
       "0  2013  Dutchess          100123\n",
       "1  2007  Saratoga          100318\n",
       "2  2016    Broome          100367"
      ]
     },
     "execution_count": 37,
     "metadata": {},
     "output_type": "execute_result"
    }
   ],
   "source": [
    "# Store the returned results list as a pandas DataFrame by using pd.DataFrame.from_records(results)\n",
    "gas_results_df =\n",
    "\n",
    "# Display the first three rows.\n"
   ]
  },
  {
   "cell_type": "markdown",
   "id": "06d0ee57",
   "metadata": {},
   "source": [
    "In the <span class=\"yt\">Your Turn's</span> below, you will practice reading a provided <b><i>JSON</i></b> file, making HTTP requests using a library of your choice, create and parse a <b><i>BeautifulSoup</i></b> object, and work more with <b><i>sodapy</i></b> and the <b><i>Socrata Open Data</i></b> API. "
   ]
  },
  {
   "cell_type": "markdown",
   "id": "c666c7f0",
   "metadata": {},
   "source": [
    "<h3 class=\"yt\">Your Turn: 1</h3>\n",
    "Read in <b><i>JSON</i></b> file <b><i>gas_sales_50.json</i></b> which contains the first 50 results returned from the Estimated gasoline sales dataset and store the result as a <b><i>pandas DataFrame</i></b>. <span class=\"bltn\">Print</span> the <span class=\"num\">last three rows</span> of the <b><i>DataFrame</i></b> you just created."
   ]
  },
  {
   "cell_type": "code",
   "execution_count": 14,
   "id": "cd853f5b",
   "metadata": {},
   "outputs": [],
   "source": [
    "# Your Turn 1 - \n",
    "\n"
   ]
  },
  {
   "cell_type": "markdown",
   "id": "84ab34bf",
   "metadata": {},
   "source": [
    "<h3 class=\"yt\">Your Turn: 2</h3>\n",
    "Using either <b><i>urllib</i></b> or <b><i>requests</i></b> library, open https://www.google.com and store the response as a <b><i>BeautifulSoup</i></b> object. <span class=\"bltn\">Print</span> the <b><i>title element</i></b> of the webpage. "
   ]
  },
  {
   "cell_type": "code",
   "execution_count": 15,
   "id": "b2ea0fe3",
   "metadata": {},
   "outputs": [],
   "source": [
    "# Your Turn 2 -\n",
    "\n",
    "    "
   ]
  },
  {
   "cell_type": "markdown",
   "id": "4996ed01",
   "metadata": {},
   "source": [
    "<h3 class=\"yt\">Your Turn: 3</h3>\n",
    "Using <b><i>sodapy's Socrata</i></b> object access the <b><i>Estimated gasoline sales</i></b> dataset. Query the dataset to return records in which the <span class=\"str\">estimated sales is < 5,000 </span>. Store the results and  <span class=\"bltn\">print</span> the <span class=\"num\">number of records that are returned</span>. "
   ]
  },
  {
   "cell_type": "code",
   "execution_count": 16,
   "id": "1a3e2db5",
   "metadata": {},
   "outputs": [],
   "source": [
    "# Your Turn 3- \n"
   ]
  },
  {
   "cell_type": "markdown",
   "id": "05dcee70",
   "metadata": {},
   "source": [
    "<h3 class=\"yt\">Your Turn: 4</h3>\n",
    "Store the results from <span class=\"yt\">Your Turn 3</span> as a <b><i>pandas DataFrame</i></b>. Using your newly created <b><i>DataFrame</i></b> display all rows that have a <span class=\"str\">year value that occured after 2010</span>. "
   ]
  },
  {
   "cell_type": "code",
   "execution_count": 17,
   "id": "25e3918b",
   "metadata": {},
   "outputs": [],
   "source": [
    "# Your Turn 4 - \n",
    "\n"
   ]
  },
  {
   "cell_type": "code",
   "execution_count": null,
   "id": "cd5ab1cb",
   "metadata": {},
   "outputs": [],
   "source": []
  }
 ],
 "metadata": {
  "kernelspec": {
   "display_name": "Python 3",
   "language": "python",
   "name": "python3"
  },
  "language_info": {
   "codemirror_mode": {
    "name": "ipython",
    "version": 3
   },
   "file_extension": ".py",
   "mimetype": "text/x-python",
   "name": "python",
   "nbconvert_exporter": "python",
   "pygments_lexer": "ipython3",
   "version": "3.8.10"
  }
 },
 "nbformat": 4,
 "nbformat_minor": 5
}
