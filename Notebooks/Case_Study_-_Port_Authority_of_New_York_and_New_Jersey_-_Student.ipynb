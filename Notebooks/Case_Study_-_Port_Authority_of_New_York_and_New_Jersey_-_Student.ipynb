{
 "cells": [
  {
   "cell_type": "code",
   "execution_count": 2,
   "metadata": {},
   "outputs": [
    {
     "data": {
      "text/html": [
       "<style>    span.str {color:#BA2121; font-style:italic; font-weight:bold;}    span.num {color:#080; font-style:italic; font-weight:bold;}    span.bltn {color:#080; font-weight:bold;}    span.op {color:#AA22FF;}    span.func {color:#00F;}    h3.yt {color:#009900; font-style:italic;}    span.yt {color:#009900; font-style:italic;}</style>"
      ],
      "text/plain": [
       "<IPython.core.display.HTML object>"
      ]
     },
     "execution_count": 2,
     "metadata": {},
     "output_type": "execute_result"
    }
   ],
   "source": [
    "# Use of IPython.display and HTML for using css to format text in Markdown based on\n",
    "# www.dataquest.io/blog/advanced-jupyter-notebooks-tutorial\n",
    "from IPython.display import HTML\n",
    "HTML(\n",
    "    \"<style>\\\n",
    "    span.str {color:#BA2121; font-style:italic; font-weight:bold;}\\\n",
    "    span.num {color:#080; font-style:italic; font-weight:bold;}\\\n",
    "    span.bltn {color:#080; font-weight:bold;}\\\n",
    "    span.op {color:#AA22FF;}\\\n",
    "    span.func {color:#00F;}\\\n",
    "    h3.yt {color:#009900; font-style:italic;}\\\n",
    "    span.yt {color:#009900; font-style:italic;}</style>\"\n",
    ")"
   ]
  },
  {
   "cell_type": "markdown",
   "metadata": {},
   "source": [
    "<h2><b><u>Case Study: Port Authority of New York and New Jersey</u></b></h2>\n",
    "\n",
    "In this case study you will apply data visualization with <b><i>Matplotlib</i></b>, use data with <b><i>dictionaries</i></b>, read and work with data using <b><i>Pandas</i></b>, and make use of <b><i>logic, control flow</i></b>, and <b><i>filtering data</i></b>. \n",
    "\n",
    "<h3><b><i>Background</i></b></h3>\n",
    "The Port Authority of New York and New Jersey (PANYNJ) is the public agency responsible for the transportation infrastructure of the New York and New Jersey metro area. The PANYNJ records data for land, sea, rail, and air travel within the metro area. Five airports are included in their jurisdiction: John F. Kennedy International Airport, LaGuardia Airport, Newark Liberty International Airport, Stewart International Airport, and Teterboro Airport [1].  In 2019, PANYNJ saw the all-time largest amount of airline passengers arriving/departing at their facilities with 140.5 million passengers [2] However, in 2020 the PANYNJ experienced its worst financial losses since World War 2 [3], with an estimated combined 1.2 billion loss in revenue as of September 30th, 2020 [4]. \n",
    "\n",
    "<h3><b><i>Goal</i></b></h3>\n",
    "The goal of this case study is to examine the Port Authority of NY NJ's <b><i>Air Passenger Traffic per Month</i></b> dataset. You will examine different aspects of the data and use it to answer questions in the <span class=\"yt\">\"Your Turn\" </span> section of this Notebook. You will also practice topics covered in DataCamp's <a href = \"https://learn.datacamp.com/courses/intermediate-python\">Intermediate Python</a> and <a href = \"https://learn.datacamp.com/courses/python-data-science-toolbox-part-1\">Python Data Science Toolbox (Part 1)</a> such as: creating and using <b><i> user-defined functions</i></b>, use <b><i>error handling</i></b> in a user-defined function, create and use <b><i>lambda functions</i></b>, and become more familiar with <b><i>scope</i></b> of variables.\n",
    "\n",
    "<h3><b><i>Data</i></b></h3>\n",
    "The <a href = \"https://data.ny.gov/Transportation/Air-Passenger-Traffic-per-Month-Port-Authority-of-/8pkr-4b7t\">PANYNY Air Passenger Traffic per Month dataset</a> collects data on passengers using the five airport facilities managed by the agency. The dataset includes the years from 1977 - 2015 with monthly passenger counts for each airport [5]. The monthly passenger counts include both passenger arrivals and departures aggregated counts for both domestic and international flights [5]. In this exercise you will be working with a selected subset of the full data. \n",
    "\n",
    "Sources: \n",
    "<ol style = \"font-size:8px\">\n",
    "    <li>Port Authority NY NJ. 2021. \"About the Port Authority\". https://www.panynj.gov/port-authority/en/about.html</li>\n",
    "    <li>Port Authoirty NY NJ. 2019. \"2019 Airport Traffic Report\". https://www.panynj.gov/content/dam/airports/statistics/statistics-general-info/annual-atr/ATR2019.pdf</li>\n",
    "    <li>Higgs, Larry. 2020. \"Coronavirus caused the worst financial losses at the Port Authority since World War II\". NJ Advanced Media for NJ.Com. https://www.nj.com/coronavirus/2020/07/coronavirus-caused-the-worst-financial-losses-at-the-port-authority-since-world-war-ii.html.</li>\n",
    "    <li>Higgs, Larry. 2020. \"Port Authority has lost $1.2B in revenue. The rest of the year will help define its future.\". NJ Advanced Media for NJ.Com. https://www.nj.com/news/2020/10/port-authority-has-lost-12b-in-revenue-the-rest-of-the-year-will-help-define-its-future.html.</li>\n",
    "    <li>New York State. 2021. \"Air Passenger Traffic per Month, Port Authority of NY NJ: Beginning 1977\". Data.Ny.Gov. https://data.ny.gov/Transportation/Air-Passenger-Traffic-per-Month-Port-Authority-of-/8pkr-4b7t</li>\n",
    "</ol>\n",
    "\n"
   ]
  },
  {
   "cell_type": "markdown",
   "metadata": {},
   "source": [
    "<h3>Matplotlib Visualization</h3>\n",
    "In the code blocks below you will visualize data with <b><i>Matplotlib</i></b> for one of the airports, <i>Atlantic City International Airport (ACY)</i>. "
   ]
  },
  {
   "cell_type": "markdown",
   "metadata": {},
   "source": [
    "<h4><u>Manually Creating Data with Lists </u></h4>\n",
    "First run the code block below to store the variables used in memory. The variable <b><i>acy_total_2015</i></b> is a <b><i>list</i></b> containing the total airport traffic, including international and domestic arrivals and departures, for the year 2015 at ACY. The variable <b><i>months</i></b> is a list containing <span class=\"num\">integer</span> values that represent the twelve months of the year. "
   ]
  },
  {
   "cell_type": "code",
   "execution_count": 3,
   "metadata": {},
   "outputs": [],
   "source": [
    "# Variable acy_total_2015 is a list containing the total arrivals & departures from ACY in the year 2015 for both domestic and international flights\n",
    "acy_total_2015 = [98267, 96496, 116690, 105700, 104093, 97361, 111141, 110632, 82583, 81344, 94358, 101628]\n",
    "\n",
    "# Months variable is a list containing the integer value for each month in a year. \n",
    "months = [1, 2, 3, 4, 5, 6, 7, 8, 9, 10, 11, 12]"
   ]
  },
  {
   "cell_type": "markdown",
   "metadata": {},
   "source": [
    "<h4><u>Creating a Plot</u></h4>\n",
    "The next step is to <span class=\"bltn\">import</span> <b><i>Matplotlib's pylot as plt </i></b> and create a simple <b><i>line plot</i></b> using <b><i>plt.plot()</i></b>. Months should be on the x-axis and acy_total_2015 on the y_axis. "
   ]
  },
  {
   "cell_type": "code",
   "execution_count": 4,
   "metadata": {
    "scrolled": true
   },
   "outputs": [],
   "source": [
    "# Import matplotlib's pyplot\n",
    "import matplotlib.pyplot as plt\n",
    "\n",
    "# Create the line plot. Hint: Use plt.plot()\n",
    "\n",
    "# Show the plot with plt.show()\n"
   ]
  },
  {
   "cell_type": "markdown",
   "metadata": {},
   "source": [
    "<h4><u>Creating a Scatter Plot</u></h4>\n",
    "The plot above creates a line graph connecting the total passengers for each month together. It also defaults to displaying ticks and labels by 2's on the x-axis which make the plot difficult to interpret. There are also no labels for either the x or y axis and there is no title. Let's use a <b><i>scatter plot</i></b> instead. In the code below we will first create a default <b><i>scatter plot</i></b> using <b><i>plt.scatter</i></b>. <b><i>Months</i></b> will be on the x-axis and <b><i>acy_total_2015</i></b> on the y-axis. "
   ]
  },
  {
   "cell_type": "code",
   "execution_count": 5,
   "metadata": {},
   "outputs": [],
   "source": [
    "# Create the scatter plot using plt.scatter()\n",
    "\n",
    "# Display the scatter plot.\n"
   ]
  },
  {
   "cell_type": "markdown",
   "metadata": {},
   "source": [
    "<h4><u>Labeling a Plot</u></h4>\n",
    "While the scatter plot shows the individual data points better than the line graph, it still does not have labels or a title. In the code block below we will <b><i>add labels, a title, and display each month's value on the x-axis</i></b>. "
   ]
  },
  {
   "cell_type": "code",
   "execution_count": 6,
   "metadata": {},
   "outputs": [
    {
     "data": {
      "image/png": "[encoded data removed]",
      "text/plain": [
       "<Figure size 432x288 with 1 Axes>"
      ]
     },
     "metadata": {
      "needs_background": "light"
     },
     "output_type": "display_data"
    }
   ],
   "source": [
    "# NOTE: Code in this cell is complete. Make sure you understand the code before running the cell.\n",
    "\n",
    "# Create variables storing the strings for the x-label, y-label, and plot title\n",
    "x_lab = \"Month\"\n",
    "y_lab = \"Total Passengers\"\n",
    "title = \"ACY Total Passengers per Month (2015)\"\n",
    "\n",
    "# Add labels to the plot\n",
    "plt.xlabel(x_lab)\n",
    "plt.ylabel(y_lab)\n",
    "plt.title(title)\n",
    "\n",
    "# Make the plot include ticks to represent each month\n",
    "plt.xticks(months, months)\n",
    "\n",
    "# Create the line plot.\n",
    "plt.scatter(months, acy_total_2015)\n",
    "plt.show()\n"
   ]
  },
  {
   "cell_type": "markdown",
   "metadata": {},
   "source": [
    "<h4><u>Creating a Histogram</u></h4>\n",
    "Let's now create a basic <b><i>histogram</i></b> of the <b><i>acy_total_2015</i></b> data. This can help us gain insight on the underlying distributon of the data. "
   ]
  },
  {
   "cell_type": "code",
   "execution_count": 7,
   "metadata": {},
   "outputs": [],
   "source": [
    "# Create the histogram. Using plt.hist(). Set the number of bins to 4\n",
    "\n",
    "# Show the histogram\n"
   ]
  },
  {
   "cell_type": "markdown",
   "metadata": {},
   "source": [
    "<h4><u>Customizing the Histogram</u></h4>\n",
    "The default <b><i>histogram</i></b> above is difficult to interpret, so lets make some adjustments to it. We will add a <b><i>title, x-axis and y-axis labels</i></b>, and modify the look using <b><i>linewidth and edgecolor</i></b>. "
   ]
  },
  {
   "cell_type": "code",
   "execution_count": 8,
   "metadata": {},
   "outputs": [
    {
     "data": {
      "image/png": "[encoded data removed]",
      "text/plain": [
       "<Figure size 432x288 with 1 Axes>"
      ]
     },
     "metadata": {
      "needs_background": "light"
     },
     "output_type": "display_data"
    }
   ],
   "source": [
    "# NOTE: Code in this cell is complete. Make sure you understand the code before running the cell.\n",
    "\n",
    "# Add labels to the axes. Try the label \"Total Passengers\" for the x-axis and \"Count\" for the y-axis. \n",
    "plt.xlabel(\"Total Passengers\")\n",
    "plt.ylabel(\"Count\")\n",
    "\n",
    "# Adjust the y-axis to show integer values\n",
    "plt.yticks([0,1,2,3,4,5])\n",
    "\n",
    "# Add a title with the previously created title variable\n",
    "plt.title(title)\n",
    "\n",
    "# Set the line width of the histogram bins to be visible by including linewidth = .5 and edgecolor = \"black\" within the plt.hist() function\n",
    "plt.hist(acy_total_2015, bins = 4, linewidth = .5, edgecolor = \"black\")\n",
    "plt.show()"
   ]
  },
  {
   "cell_type": "markdown",
   "metadata": {},
   "source": [
    "<h3>Dictionaries and Pandas</h3>\n",
    "In the code blocks below you will practice using what you've learned about Python <b><i>dictionaries</i></b> and the <b><i>pandas</i></b> library with the <b><i>Air Passenger Traffic per Month</i></b> dataset. "
   ]
  },
  {
   "cell_type": "markdown",
   "metadata": {},
   "source": [
    "<h4><u>Creating a dictionary</u></h4>\n",
    "Let's create a <b><i>dictionary</i></b> called <b><i>acy_2015</i></b> using the <b><i>acy_total_2015</i></b> variable as the <b><i>values</i></b> and <b><i>months</i></b> of the year as the <b><i>keys</i></b>. "
   ]
  },
  {
   "cell_type": "code",
   "execution_count": 9,
   "metadata": {},
   "outputs": [],
   "source": [
    "# Print the contents of the months and acy_total_2015 variables\n"
   ]
  },
  {
   "cell_type": "code",
   "execution_count": 10,
   "metadata": {},
   "outputs": [
    {
     "name": "stdout",
     "output_type": "stream",
     "text": [
      "{1: 98267, 2: 96496, 3: 116690, 4: 105700, 5: 104093, 6: 97361, 7: 111141, 8: 110632, 9: 82583, 10: 81344, 11: 94358, 12: 101628}\n"
     ]
    }
   ],
   "source": [
    "# NOTE: Code in this cell is complete. Make sure you understand the code before running the cell.\n",
    "\n",
    "# Create a dictionary using the values above called acy_2015. Make months the keys and acy_total_2015 the values. \n",
    "acy_2015 = {1:98267, 2:96496, 3:116690, 4:105700, 5:104093, 6:97361, 7:111141, 8:110632, 9:82583, 10:81344, 11:94358, 12:101628}\n",
    "\n",
    "# Print the acy_2015 dictionary to see the contents\n",
    "print(acy_2015)"
   ]
  },
  {
   "cell_type": "markdown",
   "metadata": {},
   "source": [
    "<h4><u>Accessing Dictionary Values</u></h4>\n",
    "Now that <b><i>acy_2015</i></b> is created, the <b><i>values</i></b> can be accessed by passing the <b><i>key</i></b> to the dictionary. Pass the <b><i>key</i></b> <span class=\"num\">4</span> to the <b><i>acy_2015</i></b> dictionary and <span class=\"bltn\">print</span> the result. "
   ]
  },
  {
   "cell_type": "code",
   "execution_count": 11,
   "metadata": {},
   "outputs": [],
   "source": [
    "# Print out the total number of passengers for April (4th month) from the acy_2015 dictionary. \n"
   ]
  },
  {
   "cell_type": "markdown",
   "metadata": {},
   "source": [
    "<h4><u>Nested Dictionaries</u></h4>\n",
    "Now we will create a <b><i>nested dictionary</i></b> called <b><i>acy</i></b> which is a dictionary of dictionaries. The structure will be <b><i>year(key):previously created acy dictionary for that year (value)</i></b>. First, we have to create another dictionary <b><i>acy_2014</i></b> containing the same attribute <i>Total Passengers</i> as <b><i>acy_2015</i></b> except for the year 2014. "
   ]
  },
  {
   "cell_type": "code",
   "execution_count": 12,
   "metadata": {},
   "outputs": [],
   "source": [
    "# Create dictionary with months as the key and acy_total_2014 as values\n",
    "acy_2014 = {1:92421, 2:90403, 3:109998, 4:104927, 5:110281, 6:106239, 7:117685, 8:120514, 9:83136, 10:84991, 11:96177, 12:94895}"
   ]
  },
  {
   "cell_type": "code",
   "execution_count": 13,
   "metadata": {},
   "outputs": [],
   "source": [
    "# Create a nested dictionary called acy. Store in it the previously created acy dictionaries from above. \n",
    "acy = {\"2014\":acy_2014, \"2015\":acy_2015}\n",
    "\n",
    "# Print the acy dictionary\n"
   ]
  },
  {
   "cell_type": "markdown",
   "metadata": {},
   "source": [
    "<h4><u>Accessing Values in a Nested Dictionary</u></h4>\n",
    "Now that the <b><i>acy</i></b> nested dictionary has been created, let's practice accessing values in it. <span class=\"bltn\">Print</span> the <i>Total Passengers </i> for January in 2014 and 2015 using <span class=\"str\">string</span> and <b><i>acy</i></b> values using this format: \n",
    "<span class=\"str\">\"January 2014: </span> value <span class=\"str\">January 2015:</span> value. "
   ]
  },
  {
   "cell_type": "code",
   "execution_count": 14,
   "metadata": {},
   "outputs": [],
   "source": [
    "# Print out the number of passengers for the month of January in 2014 and 2015 using the acy dictionary. \n"
   ]
  },
  {
   "cell_type": "markdown",
   "metadata": {},
   "source": [
    "<h4><u>Dictionary to Pandas DataFrame</u></h4>\n",
    "In addition to <b><i>lists</i></b> and <b><i>dictionaries</i></b> we can use the <b><i>pandas DataFrame</i></b> data structure to work with data. First we must import the <b><i>pandas</i></b> library. Next we will convert the <b><i>acy</i></b> dictionary into a <b><i>DataFrame</i></b> and print to see the difference. "
   ]
  },
  {
   "cell_type": "code",
   "execution_count": 15,
   "metadata": {},
   "outputs": [],
   "source": [
    "# Import pandas library\n",
    "import pandas as pd\n",
    "\n",
    "# Create a dataframe from the acy dictionary\n",
    "acy_df = pd.DataFrame(acy)\n",
    "\n",
    "# Print the data frame to see the difference. \n"
   ]
  },
  {
   "cell_type": "markdown",
   "metadata": {},
   "source": [
    "<h4><u>Pandas DataFrame with Air Traffic Passenger per Month</u></h4>\n",
    "Now we will work with a larger subset of the <b><i>PANYNJ Air Traffic Passenger per Month</i></b>data. This subset of data will contain the <i>monthly domestic, international, and total passengers for the Atlantic City International (ACY), Newark Liberty International (EWR), and John F. Kennedy International (JFK) airports for the years 2013 - 2015</i>. First let's import the csv file using pandas and <span class=\"bltn\">print </span> it. "
   ]
  },
  {
   "cell_type": "code",
   "execution_count": 16,
   "metadata": {},
   "outputs": [],
   "source": [
    "# NOTE: Code in this cell is complete. Make sure you understand the code before running the cell.\n",
    "\n",
    "# Import the ACY_EWR_JFK_2015_2013.csv file. In this case we will not include the index_col parameter since the csv file does\n",
    "# not contain an index column. This allows the read_csv() function to supply an index column automatically to the DataFrame.\n",
    "air_traffic_df = pd.read_csv('Data/ACY_EWR_JFK_2015_2013.csv')\n",
    "\n",
    "# Print the air_traffic_df DataFrame\n"
   ]
  },
  {
   "cell_type": "markdown",
   "metadata": {},
   "source": [
    "<h4><u>Extracting a DataFrame column to a Series</u></h4>\n",
    "Now let's extract the <i>domestic passengers</i> column as a <b><i>pandas Series</i></b> and <span class=\"bltn\">print</span> it. Then we'll create a new DataFrame view called <b><i>air_t_passengers</i></b> containing only the <i>'Airport Code'</i> and <i>'Total Passengers'</i> columns. "
   ]
  },
  {
   "cell_type": "code",
   "execution_count": 17,
   "metadata": {},
   "outputs": [
    {
     "ename": "SyntaxError",
     "evalue": "invalid syntax (<ipython-input-17-6442a1089316>, line 2)",
     "output_type": "error",
     "traceback": [
      "\u001b[1;36m  File \u001b[1;32m\"<ipython-input-17-6442a1089316>\"\u001b[1;36m, line \u001b[1;32m2\u001b[0m\n\u001b[1;33m    d_passengers =\u001b[0m\n\u001b[1;37m                   ^\u001b[0m\n\u001b[1;31mSyntaxError\u001b[0m\u001b[1;31m:\u001b[0m invalid syntax\n"
     ]
    }
   ],
   "source": [
    "# Extract the 'Domestic Passengers' column from air_traffic_df to a pandas Series and print. \n",
    "d_passengers = \n",
    "\n",
    "# Print d_passengers Series\n"
   ]
  },
  {
   "cell_type": "code",
   "execution_count": 18,
   "metadata": {},
   "outputs": [
    {
     "name": "stdout",
     "output_type": "stream",
     "text": [
      "              Total Passengers\n",
      "Airport Code                  \n",
      "ACY                      96496\n",
      "ACY                     110632\n",
      "ACY                      82583\n",
      "ACY                      98267\n",
      "ACY                     111141\n",
      "...                        ...\n",
      "JFK                    4209188\n",
      "JFK                    3726946\n",
      "JFK                    3964978\n",
      "JFK                    4968173\n",
      "JFK                    4323261\n",
      "\n",
      "[107 rows x 1 columns]\n"
     ]
    }
   ],
   "source": [
    "# NOTE: Code in this cell is complete. Make sure you understand the code before running the cell.\n",
    "\n",
    "# Create a new DataFrame from air_traffic_df containing the 'Airport Code' and 'Total Passengers' columns.  \n",
    "# Remove the autoindexing by using air_t_passengers.set_index('Airport Code', inplace = True).Print the result.\n",
    "air_t_passengers = air_traffic_df[['Airport Code', 'Total Passengers']]\n",
    "air_t_passengers.set_index('Airport Code', inplace = True)\n",
    "print(air_t_passengers)"
   ]
  },
  {
   "cell_type": "markdown",
   "metadata": {},
   "source": [
    "<h4><u>Accessing the DataFrame</u></h4>\n",
    "Next let's print the the first five observations of <b><i>air_traffic_df</i></b>. This means we need to access all columns and the first <span class=\"num\">5 </span>rows. "
   ]
  },
  {
   "cell_type": "code",
   "execution_count": 19,
   "metadata": {},
   "outputs": [],
   "source": [
    "# Print the first five observations of the air_traffic_df DataFrame\n"
   ]
  },
  {
   "cell_type": "markdown",
   "metadata": {},
   "source": [
    "<h4><u>Accessing the DataFrame wiht iloc and loc</u></h4>\n",
    "Now let's work with <span class=\"num\">integer indexing </span>using <b><i>iloc</i></b> and <span class=\"str\">labels indexing</span> using <b><i>loc</i></b> with the <b><i>air_traffic_df</i></b> DataFrame."
   ]
  },
  {
   "cell_type": "code",
   "execution_count": 20,
   "metadata": {},
   "outputs": [],
   "source": [
    "# Using integer indexing print the 10th observation in air_traffic_df\n"
   ]
  },
  {
   "cell_type": "code",
   "execution_count": 21,
   "metadata": {},
   "outputs": [],
   "source": [
    "# Using label based indexing access observations for airport code JFK from the air_t_passengers dataframe. \n",
    "# Print the first 3 results\n"
   ]
  },
  {
   "cell_type": "markdown",
   "metadata": {},
   "source": [
    "<h3>Boolean Logic, Loops, and Filtering Data</h3>\n",
    "In this section you will practice what you've learned about <b><i>boolean logic, loops, and filtering</i></b> pandas DataFrames. First let's use <b><i>boolean logic with NumPy arrays</i></b> by converting the <b><i>acy_total_2015 and acy_total_2014</i></b> lists to this format. <span class=\"bltn\">Print</span> the results."
   ]
  },
  {
   "cell_type": "code",
   "execution_count": 22,
   "metadata": {},
   "outputs": [],
   "source": [
    "# Import NumPy\n",
    "import numpy as np\n",
    "\n",
    "# Create the acy_total_2014 list. \n",
    "# Total passengers per month for ACY in 2014\n",
    "acy_total_2014 = [92421, 90403, 109998, 104927, 110281,106239, 117685, 120514, 83136, 84991, 96177, 94895]\n",
    "\n",
    "# Convert acy_total_2015 & acy_total_2014 into NumPy arrays. Print the results. \n",
    "acy_total_2015 = np.array(acy_total_2015)\n",
    "\n",
    "acy_total_2014 = np.array(acy_total_2014)\n",
    "\n",
    "# Print the data type of the arrays. Example: array_name.dtype\n"
   ]
  },
  {
   "cell_type": "markdown",
   "metadata": {},
   "source": [
    "<h4><u>Logical Expressions with NumPy arrays</u></h4>\n",
    "In the code blocks below you will answers some questions using logical expressions and <b><i>acy_total_2015 and acy_total_2014</i></b>. <span class=\"bltn\">Print</span> the answers. \n",
    "\n",
    "<h4><u>Question 1:</u></h4>\n",
    "Is the value for the total number of passengers at ACY in 2015 greater than the total number of passengers at ACY in 2014? "
   ]
  },
  {
   "cell_type": "code",
   "execution_count": 23,
   "metadata": {},
   "outputs": [
    {
     "ename": "SyntaxError",
     "evalue": "invalid syntax (<ipython-input-23-77142987d900>, line 4)",
     "output_type": "error",
     "traceback": [
      "\u001b[1;36m  File \u001b[1;32m\"<ipython-input-23-77142987d900>\"\u001b[1;36m, line \u001b[1;32m4\u001b[0m\n\u001b[1;33m    acy_2015_sum =\u001b[0m\n\u001b[1;37m                   ^\u001b[0m\n\u001b[1;31mSyntaxError\u001b[0m\u001b[1;31m:\u001b[0m invalid syntax\n"
     ]
    }
   ],
   "source": [
    "# Question: Is the total number of passengers at ACY in 2015 greater than the total number of passengers at ACY in 2014? \n",
    "\n",
    "# Calculate the total passengers for ACY in 2015 using sum(). Store in variable acy_2015_sum and print. \n",
    "acy_2015_sum = \n",
    "\n",
    "# Do the same as above for ACY in 2014 and store in variable acy_2014_sum then print. \n",
    "acy_2014_sum = \n",
    "\n",
    "# Check if acy_2015_sum is greater than acy_2014_sum and print the result.\n"
   ]
  },
  {
   "cell_type": "markdown",
   "metadata": {},
   "source": [
    "<h4><u>Question 2:</u></h4>\n",
    "Is the number of passengers at ACY for January, 2015 less than the number of passengers at ACY for January, 2014 OR February, 2014? \n"
   ]
  },
  {
   "cell_type": "code",
   "execution_count": 24,
   "metadata": {},
   "outputs": [
    {
     "ename": "SyntaxError",
     "evalue": "invalid syntax (<ipython-input-24-7d47d39f7d4b>, line 5)",
     "output_type": "error",
     "traceback": [
      "\u001b[1;36m  File \u001b[1;32m\"<ipython-input-24-7d47d39f7d4b>\"\u001b[1;36m, line \u001b[1;32m5\u001b[0m\n\u001b[1;33m    jan_15 =\u001b[0m\n\u001b[1;37m             ^\u001b[0m\n\u001b[1;31mSyntaxError\u001b[0m\u001b[1;31m:\u001b[0m invalid syntax\n"
     ]
    }
   ],
   "source": [
    "# Question: Is the number of passengers at ACY for January, 2015 less than the number of passengers at ACY\n",
    "# for January, 2014 OR February, 2014? \n",
    "\n",
    "# Store the total number of passengers for January,2015 as variable jan_15. Print jan_15\n",
    "jan_15 = \n",
    "\n",
    "# Store the total number of passnegers for January, 2014 and February, 2014 as variable jan_14 and feb_14 respectively. Print them.\n",
    "jan_14 = \n",
    "feb_14 = \n",
    "\n",
    "# Check if jan_15 is < jan_14 OR feb_14 and print the result. Hint: use np.logical_or()\n"
   ]
  },
  {
   "cell_type": "markdown",
   "metadata": {},
   "source": [
    "<h4><u>Filtering a DataFrame</u></h4>\n",
    "Now let's practice <b><i>filtering</i></b> pandas DataFrames. You'll use the <b><i>air_traffic_df</i></b> DataFrame in the code blocks below to answer questions and <span class=\"bltn\">print </span> your results. \n",
    "\n",
    "<h4><u>Question 1:</u></h4>\n",
    "Which months had a <i>'Total Passengers'</i> value of greater than <span class=\"num\">500,000</span>? Include the <i>'Airport Code', 'Year', 'Month', and 'Total Passengers'</i> columns in your result and <span class=\"bltn\">print </span> it."
   ]
  },
  {
   "cell_type": "code",
   "execution_count": 25,
   "metadata": {},
   "outputs": [
    {
     "ename": "SyntaxError",
     "evalue": "invalid syntax (<ipython-input-25-a9f85a648751>, line 5)",
     "output_type": "error",
     "traceback": [
      "\u001b[1;36m  File \u001b[1;32m\"<ipython-input-25-a9f85a648751>\"\u001b[1;36m, line \u001b[1;32m5\u001b[0m\n\u001b[1;33m    air_500k =\u001b[0m\n\u001b[1;37m               ^\u001b[0m\n\u001b[1;31mSyntaxError\u001b[0m\u001b[1;31m:\u001b[0m invalid syntax\n"
     ]
    }
   ],
   "source": [
    "# Question: Which months had a 'Total Passengers' value of greater than 500,000? Include the 'Airport Code', 'Year', 'Month', and\n",
    "# 'Total Passengers' columns in your result. \n",
    "\n",
    "# Filter air_traffic_df for rows in which 'Total Passengers' is greater than 500,000 and store this result as a variable air_500k\n",
    "air_500k = \n",
    "\n",
    "# Print the result. \n"
   ]
  },
  {
   "cell_type": "markdown",
   "metadata": {},
   "source": [
    "<h4><u>Using Loops</u></h4>\n",
    "Now let's work with <b><i>loops</i></b>. In the code blocks below you will practice with a <b><i>while loop and for loop </i></b> using the <b><i>acy_total_2015</i></b> NumPy array and will use the <b><i>air_traffic_df</i></b> variable to practice iterating with pandas.\n",
    "\n",
    "<h4><u>While Loop</u></h4>\n",
    "Use a <b><i>while</i></b> loop to <span class=\"bltn\">print</span> out the first <span class=\"num\">10</span> values in <b><i>acy_total_2015</i></b>. "
   ]
  },
  {
   "cell_type": "code",
   "execution_count": 26,
   "metadata": {},
   "outputs": [
    {
     "ename": "SyntaxError",
     "evalue": "invalid syntax (<ipython-input-26-7c895a94f972>, line 4)",
     "output_type": "error",
     "traceback": [
      "\u001b[1;36m  File \u001b[1;32m\"<ipython-input-26-7c895a94f972>\"\u001b[1;36m, line \u001b[1;32m4\u001b[0m\n\u001b[1;33m    acy_count =\u001b[0m\n\u001b[1;37m                ^\u001b[0m\n\u001b[1;31mSyntaxError\u001b[0m\u001b[1;31m:\u001b[0m invalid syntax\n"
     ]
    }
   ],
   "source": [
    "# Use a while loop to print out the first 10 values in acy_total_2015. \n",
    "\n",
    "# Create a variable called acy_count and initialize it to 0\n",
    "acy_count = \n",
    "\n",
    "# Create the while loop using the acy_count and print the first 10 values. Remember to increment acy_count at the end of the loop\n"
   ]
  },
  {
   "cell_type": "markdown",
   "metadata": {},
   "source": [
    "<h4><u>For Loop</u></h4>\n",
    "Use a <b><i>for</i></b> loop to <span class=\"bltn\">print</span> out the first <span class=\"num\">10</span> values in <b><i>acy_total_2015</i></b>. "
   ]
  },
  {
   "cell_type": "code",
   "execution_count": 27,
   "metadata": {},
   "outputs": [],
   "source": [
    "# Use a for loop to print out all elements in acy_total_2015\n",
    "    "
   ]
  },
  {
   "cell_type": "markdown",
   "metadata": {},
   "source": [
    "<h4><u>Applying Functions to a DataFrame</u></h4>\n",
    "We can <b><i>apply</i></b> functions to a DataFrame using the <b><i>apply</i></b> method and passing the function as an argument. Let's <span class=\"bltn\">print</span> the values in the <i>\"Airport Code\"</i> column as <span class=\"str\">lower case strings </span>. "
   ]
  },
  {
   "cell_type": "code",
   "execution_count": 28,
   "metadata": {},
   "outputs": [],
   "source": [
    "# Print the 'Airport Code' as lower case. Hint: Use .apply(str.lower). Make sure to not save the 'Airport Code' column as \n",
    "# lower case. Only print it as lower case. \n"
   ]
  },
  {
   "cell_type": "markdown",
   "metadata": {},
   "source": [
    "<h3> Use Case </h3>\n",
    "In this use case you will see how individual steps from the code above can be tied together with the <b><i>Air Traffic Passenger per Month</i></b> data to answer questions. You have been asked to examine the <span class=\"num\"> domestic passenger counts</span> for each month for JFK airport for the <span class=\"bltn\"> year 2013 </span> and compare them to the international passenger counts for JFK for the <span class=\"bltn\">year 2013</span>. The following question and project requirements will need to be examined and answered: \n",
    "<ul>\n",
    "    <li><b><i>Requirement</b></i>: Visualize the data of interest. \n",
    "    <li><b><i>Question 1:</i></b> Did international passenger count exceed domestic passenger count for any month in 2013?If so, which months? </li>\n",
    "    <li><b><i>Question 2</i></b>: Which month had the largest domestic passenger count? Which month had the smallest domestic passenger count?  </li>\n",
    "</ul>\n",
    "\n",
    "<h4><u>Visualize the Data of Interest</u></h4>\n",
    "We will visualize the data of interest by creating a new DataFrame that contains only records for <span class=\"str\">JFK</span> that occurred in the year <span class=\"num\">2013</span>. In order to make the <b><i>plots </i></b> look nicer we will add a new column called <i>'Num Month'</i> that contains the <span class=\"num\">numerical value</span> for the month. We'll then <b><i>sort</i></b> the DataFrame on <i>'Num Month'</i> to make our plots occur in chronological order. "
   ]
  },
  {
   "cell_type": "code",
   "execution_count": 29,
   "metadata": {},
   "outputs": [
    {
     "name": "stdout",
     "output_type": "stream",
     "text": [
      "    Airport Code  Year Month  Domestic Passengers  International Passengers  \\\n",
      "103          JFK  2013   Jan              1837638                   1889308   \n",
      "97           JFK  2013   Feb              1636127                   1546573   \n",
      "95           JFK  2013   Mar              2081615                   2085558   \n",
      "104          JFK  2013   Apr              1925830                   2039148   \n",
      "106          JFK  2013   May              2059717                   2263544   \n",
      "99           JFK  2013   Jun              2106371                   2489940   \n",
      "105          JFK  2013   Jul              2241887                   2726286   \n",
      "100          JFK  2013   Aug              2268278                   2820169   \n",
      "101          JFK  2013   Sep              1904407                   2306002   \n",
      "102          JFK  2013   Oct              1991650                   2217538   \n",
      "96           JFK  2013   Nov              1813415                   1904207   \n",
      "98           JFK  2013   Dec              2042240                   2252910   \n",
      "\n",
      "     Total Passengers  Num Month  \n",
      "103           3726946          1  \n",
      "97            3182700          2  \n",
      "95            4167173          3  \n",
      "104           3964978          4  \n",
      "106           4323261          5  \n",
      "99            4596311          6  \n",
      "105           4968173          7  \n",
      "100           5088447          8  \n",
      "101           4210409          9  \n",
      "102           4209188         10  \n",
      "96            3717622         11  \n",
      "98            4295150         12  \n"
     ]
    }
   ],
   "source": [
    "# Requirement: Visualize the data of interest. \n",
    "\n",
    "# Create a new data frame containing only JFK records for 2013 by copying from the original air_traffic_df\n",
    "jfk_13_df = air_traffic_df[((air_traffic_df['Airport Code'] == 'JFK') & (air_traffic_df['Year'] == 2013))].copy()\n",
    "\n",
    "# Add a column to jfk_13_df to represent the numerical value of the months. \n",
    "jfk_13_df['Num Month'] = [3, 11, 2, 12, 6, 8, 9, 10, 1, 4, 7, 5]\n",
    "\n",
    "# Sort the DataFrame to have the expected chronological order by month \n",
    "jfk_13_df.sort_values(by = 'Num Month', inplace = True ) \n",
    "\n",
    "print(jfk_13_df)"
   ]
  },
  {
   "cell_type": "code",
   "execution_count": 30,
   "metadata": {},
   "outputs": [
    {
     "data": {
      "image/png": "[encoded data removed]",
      "text/plain": [
       "<Figure size 432x288 with 1 Axes>"
      ]
     },
     "metadata": {
      "needs_background": "light"
     },
     "output_type": "display_data"
    }
   ],
   "source": [
    "# Visualize the domestic and international traffic as a line graph.\n",
    "\n",
    "# Variables to hold plot labels\n",
    "jfk_title = \"JFK Airport Passenger Counts (2013)\"\n",
    "jfk_x_lab = \"Months\"\n",
    "jfk_y_lab = \"Passenger Counts\"\n",
    "\n",
    "# Create the first subplot\n",
    "plt.title(jfk_title)\n",
    "plt.xlabel(jfk_x_lab)\n",
    "plt.ylabel(jfk_y_lab)\n",
    "\n",
    "# Plot the data as a line graph. Set each attribute to a specific color and include a label for use with the legend. \n",
    "plt.plot(jfk_13_df['Month'], jfk_13_df['Domestic Passengers'], color = 'blue', label = \"Domestic\")\n",
    "plt.plot(jfk_13_df['Month'], jfk_13_df['International Passengers'], color = 'green', label = \"International\")\n",
    "\n",
    "# Add legend and show the first subplot\n",
    "plt.legend(loc='lower right', fontsize = 8)\n",
    "plt.show()"
   ]
  },
  {
   "cell_type": "code",
   "execution_count": 31,
   "metadata": {},
   "outputs": [
    {
     "data": {
      "image/png": "[encoded data removed]",
      "text/plain": [
       "<Figure size 432x288 with 1 Axes>"
      ]
     },
     "metadata": {
      "needs_background": "light"
     },
     "output_type": "display_data"
    }
   ],
   "source": [
    "# Visualize the domestic and international traffic as a line graph.\n",
    "# Add labels\n",
    "plt.title(jfk_title)\n",
    "plt.xlabel(jfk_x_lab)\n",
    "plt.ylabel(jfk_y_lab)\n",
    "\n",
    "# Plot the data using a scatter plot.  \n",
    "plt.scatter(jfk_13_df['Month'], jfk_13_df['Domestic Passengers'], color = 'blue', label = \"Domestic\")\n",
    "plt.scatter(jfk_13_df['Month'], jfk_13_df['International Passengers'], color = 'green', label = \"International\")\n",
    "\n",
    "# Add legend and show the second subplot\n",
    "plt.legend(loc='lower right', fontsize = 8)\n",
    "plt.show()"
   ]
  },
  {
   "cell_type": "markdown",
   "metadata": {},
   "source": [
    "<h4><u>Question 1: </u></h4>\n",
    "Did <i>international passenger</i> count exceed <i>domestic passenger</i> count for any <i>month</i> in <span class=\"num\">2013</span>? If so, which <i>month</i>?\n"
   ]
  },
  {
   "cell_type": "code",
   "execution_count": 32,
   "metadata": {},
   "outputs": [
    {
     "name": "stdout",
     "output_type": "stream",
     "text": [
      "International passenger counts exceeded domestic passenger counts for 11 months in 2013 at JFK\n",
      "The following months met this critieria:\n",
      "Jan\n",
      "Mar\n",
      "Apr\n",
      "May\n",
      "Jun\n",
      "Jul\n",
      "Aug\n",
      "Sep\n",
      "Oct\n",
      "Nov\n",
      "Dec\n"
     ]
    }
   ],
   "source": [
    "#Question 1: Did international passenger count exceed domestic passenger count for any month in 2013? If so, which month?\n",
    "months_exceeded = jfk_13_df[jfk_13_df['International Passengers'] > jfk_13_df['Domestic Passengers']]\n",
    "\n",
    "# Answer: \n",
    "print(\"International passenger counts exceeded domestic passenger counts for \" + str(months_exceeded['Month'].count()) + \" months in 2013 at JFK\")\n",
    "# Setting index = False in to_string() means that the DataFrame index will not print\n",
    "print(\"The following months met this critieria:\\n\" + months_exceeded['Month'].to_string(index = False))"
   ]
  },
  {
   "cell_type": "markdown",
   "metadata": {},
   "source": [
    "<h4><u>Question 2: </u></h4>\n",
    "Which <i>month</i> had the largest <i>domestic passenger</i> count? Which <i>month</i> had the smallest <i>domestic passenger count</i>? \n"
   ]
  },
  {
   "cell_type": "code",
   "execution_count": 33,
   "metadata": {},
   "outputs": [
    {
     "name": "stdout",
     "output_type": "stream",
     "text": [
      "Largest:  Aug \t# Passengers:  2268278\n",
      "Smallest:  Feb \t# Passengers:  1636127\n"
     ]
    }
   ],
   "source": [
    "#Question 2: Which month had the largest domestic passenger count? Which month had the smallest domestic passenger count? \n",
    "\n",
    "# Get the row position of the largest value in the 'Domestic Passengers' column\n",
    "ld_position = jfk_13_df['Domestic Passengers'].argmax()\n",
    "\n",
    "# Get the row position for the smalled value in the 'Domestic Passengers' column\n",
    "sd_position = jfk_13_df['Domestic Passengers'].argmin()\n",
    "\n",
    "print(\"Largest: \", jfk_13_df['Month'].iloc[ld_position], \"\\t# Passengers: \", jfk_13_df['Domestic Passengers'].iloc[ld_position])\n",
    "print(\"Smallest: \", jfk_13_df['Month'].iloc[sd_position], \"\\t# Passengers: \", jfk_13_df['Domestic Passengers'].iloc[sd_position])\n"
   ]
  },
  {
   "cell_type": "markdown",
   "metadata": {},
   "source": [
    "<h3>Your Turn</h3>\n",
    "In this <span class=\"yt\">Your Turn</span> you will create plots using the <b><i>acy_total_2014_lst</i></b> variable which is a list containsing the total monthly passenger counts for <i>ACY</i> for 2014. You will also answer questions about air passenger travel at <i>EWR</i> for the <i>year</i> 2014. Use the code above and especially the Use Case code above as a hint. \n",
    "\n",
    "<ol>\n",
    "    <li>Create a new DataFrame <b><i>ewr_14_df</i></b> that contains only rows from the airport with <span class=\"str\">'Airport Code' == 'EWR'</span> and <span class=\"str\">'Year' == </span><span class=\"num\">2014</span>. Add a new column titled <i>'Num Month'</i> to <b><i>ewr_14_df</i></b> that represents the <span class=\"num\">numerical value</span> that corresponds to the <i>'Month'</i>. Sort <b><i>ewr_14_df</i></b> in place on <i>'Num Month'</i>. <span class=\"bltn\">Print</span> your result. </li><br>\n",
    "    <li>Choose one type of visualization, i.e. scatter plot, line graph, histogram and visualize ewr_14_df's 'Domestic Passengers' column for each month. Make sure to include a title, x-axis, and y-axis labels. </li><br>\n",
    "    <li>Question: Which month at EWR had the highest passenger count for international travel? Print the name of the month and the number of international passengers for that month. </li>\n",
    "</ol>\n",
    "    "
   ]
  },
  {
   "cell_type": "markdown",
   "metadata": {},
   "source": [
    "<h3 class=\"yt\">Your Turn: 1</h3>\n",
    "Using the <b><i>acy_total_2014_lst</i></b> list provided create a <b><i>scatterplot</i></b> with <b><i>months</i></b> on the x-axis and <b><i>acy_total_2014_lst</b></i> on the y-axis. Give your scatterplot a <b><i>title and label the x and y axes</i></b>. "
   ]
  },
  {
   "cell_type": "code",
   "execution_count": 34,
   "metadata": {},
   "outputs": [],
   "source": [
    "# Your Turn 1: \n",
    "\n",
    "# Total passengers per month for ACY in 2014\n",
    "acy_total_2014_lst = [92421, 90403, 109998, 104927, 110281,106239, 117685, 120514, 83136, 84991, 96177, 94895]\n",
    "\n",
    "# Your Turn: 1 scatterplot code here\n"
   ]
  },
  {
   "cell_type": "markdown",
   "metadata": {},
   "source": [
    "<h3 class=\"yt\">Your Turn: 2</h3>\n",
    "Create a <b><i>histogram</i></b> of <b><i>acy_total_2014_lst</i></b>  in the cell below. Include a <b><i>title, label the axes, and set the number of bins</i></b> <span class=\"op\">=</span> <span class=\"num\"> 4</span>. Also change the default color of the bins by adding color <span class=\"op\">=</span> <span class=\"str\">\"insert the color name here\"</span> when you call the <b><i>plt.hist()</i></b> function. Hint: You can find a list of valid colors by choosing one from the <a href = \"https://matplotlib.org/stable/tutorials/colors/colors.html\">Matplotlib Specifying Colors</a> documentation. "
   ]
  },
  {
   "cell_type": "code",
   "execution_count": 35,
   "metadata": {},
   "outputs": [],
   "source": [
    "# Your Turn: 2  \n",
    "\n",
    "# Your Turn 2 histogram code here"
   ]
  },
  {
   "cell_type": "markdown",
   "metadata": {},
   "source": [
    "<h3 class=\"yt\">Your Turn: 3</h3>\n",
    "Using the <b><i>acy_2014</i></b> dictionary previously created, <span class=\"bltn\">print</span> the total number of passengers for the month of <span class=\"num\">December</span>. "
   ]
  },
  {
   "cell_type": "code",
   "execution_count": 36,
   "metadata": {},
   "outputs": [],
   "source": [
    "# Your Turn: 3 code here. \n"
   ]
  },
  {
   "cell_type": "markdown",
   "metadata": {},
   "source": [
    "<h3 class=\"yt\">Your Turn: 4</h3>\n",
    "Create a new DataFrame <b><i>ewr_14_df</i></b> that contains only rows from the airport with <span class=\"str\">'Airport Code' == 'EWR'</span> and <span class=\"str\">'Year' == </span><span class=\"num\">2014</span>. Add a new column titled <i>'Num Month'</i> to <b><i>ewr_14_df</i></b> that represents the <span class=\"num\">numerical value</span> that corresponds to the <i>'Month'</i>. Sort <b><i>ewr_14_df</i></b> in place on <i>'Num Month'</i>. <span class=\"bltn\">Print</span> your result. "
   ]
  },
  {
   "cell_type": "code",
   "execution_count": 37,
   "metadata": {},
   "outputs": [],
   "source": [
    "# Your Turn 4: \n"
   ]
  },
  {
   "cell_type": "markdown",
   "metadata": {},
   "source": [
    "<h3 class=\"yt\">Your Turn: 5</h3>\n",
    "Choose one type of visualization,  <b><i>scatter plot, line graph, or histogram</i></b>, and visualize <b><i>ewr_14_df</i></b> <i>'Domestic Passengers'</i> column for each <i>month</i>. Make sure to include a <b><i>title, x-axis, and y-axis labels</i></b>. "
   ]
  },
  {
   "cell_type": "code",
   "execution_count": 38,
   "metadata": {},
   "outputs": [],
   "source": [
    "# Your Turn 5: \n"
   ]
  },
  {
   "cell_type": "markdown",
   "metadata": {},
   "source": [
    "<h3 class=\"yt\">Your Turn: 6</h3>\n",
    "Which <i>month</i> at <i>EWR</i> had the highest passenger count for international travel? <span class=\"bltn\">Print</span> the <span class=\"str\">name of the month</span> and the <span class=\"num\">number of international passengers</span> for that month. "
   ]
  },
  {
   "cell_type": "code",
   "execution_count": 39,
   "metadata": {},
   "outputs": [],
   "source": [
    "# Your Turn 6: "
   ]
  },
  {
   "cell_type": "code",
   "execution_count": null,
   "metadata": {},
   "outputs": [],
   "source": []
  }
 ],
 "metadata": {
  "kernelspec": {
   "display_name": "Python 3",
   "language": "python",
   "name": "python3"
  },
  "language_info": {
   "codemirror_mode": {
    "name": "ipython",
    "version": 3
   },
   "file_extension": ".py",
   "mimetype": "text/x-python",
   "name": "python",
   "nbconvert_exporter": "python",
   "pygments_lexer": "ipython3",
   "version": "3.8.10"
  }
 },
 "nbformat": 4,
 "nbformat_minor": 4
}
