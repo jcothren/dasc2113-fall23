{
 "metadata": {
  "language_info": {
   "codemirror_mode": {
    "name": "ipython",
    "version": 3
   },
   "file_extension": ".py",
   "mimetype": "text/x-python",
   "name": "python",
   "nbconvert_exporter": "python",
   "pygments_lexer": "ipython3",
   "version": "3.9.2"
  },
  "orig_nbformat": 4,
  "kernelspec": {
   "name": "python3",
   "display_name": "Python 3.9.2 64-bit"
  },
  "interpreter": {
   "hash": "aee8b7b246df8f9039afb4144a1f6fd8d2ca17a180786b69acc140d282b71a49"
  }
 },
 "nbformat": 4,
 "nbformat_minor": 2,
 "cells": [
  {
   "cell_type": "code",
   "execution_count": 67,
   "source": [
    "def select_teams(students, team_size):\n",
    "    \n",
    "    import random, math, copy \n",
    "    import numpy as np\n",
    "\n",
    "    # create a list of teams \n",
    "    teams = []\n",
    "    \n",
    "    # first, randomly sort the student in the list\n",
    "    shuffled_students = copy.deepcopy(students)\n",
    "    random.shuffle(shuffled_students)\n",
    "\n",
    "    # next, parse the list into teams of size team_size\n",
    "    num_teams = math.ceil(len(students)/team_size)\n",
    "\n",
    "    # iterate through students and select by 3\n",
    "    for i in range(num_teams):\n",
    "        student_index = np.array(range(team_size)) + i * team_size\n",
    "        teams.append(shuffled_students[student_index[0]:student_index[-1]+1])\n",
    "        \n",
    "    return teams"
   ],
   "outputs": [],
   "metadata": {}
  },
  {
   "cell_type": "code",
   "execution_count": 79,
   "source": [
    "students  = ['Anthony', 'William', 'Ava', 'Braden', 'Trace', 'Jacob', 'Jack', 'Annelise', 'Ben', 'Hayden', 'Gerardo','Nicole', 'Bobby', 'Abby']\n",
    "\n",
    "teams = select_teams(students, 3)"
   ],
   "outputs": [],
   "metadata": {}
  },
  {
   "cell_type": "code",
   "execution_count": null,
   "source": [],
   "outputs": [],
   "metadata": {}
  }
 ]
}