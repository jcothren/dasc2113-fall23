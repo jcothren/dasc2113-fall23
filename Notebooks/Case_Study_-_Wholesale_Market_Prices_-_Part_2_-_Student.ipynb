{
 "cells": [
  {
   "cell_type": "code",
   "execution_count": 10,
   "id": "3116251d",
   "metadata": {},
   "outputs": [
    {
     "data": {
      "text/html": [
       "<style>    span.str {color:#BA2121; font-style:italic; font-weight:bold;}    span.num {color:#080; font-style:italic; font-weight:bold;}    span.bltn {color:#080; font-weight:bold;}    span.op {color:#AA22FF;}    span.func {color:#00F;}    h3.yt {color:#009900; font-style:italic;}    span.yt {color:#009900; font-style:italic;}</style>"
      ],
      "text/plain": [
       "<IPython.core.display.HTML object>"
      ]
     },
     "execution_count": 10,
     "metadata": {},
     "output_type": "execute_result"
    }
   ],
   "source": [
    "# Use of IPython.display and HTML for using css to format text in Markdown based on\n",
    "# www.dataquest.io/blog/advanced-jupyter-notebooks-tutorial\n",
    "from IPython.display import HTML\n",
    "HTML(\n",
    "    \"<style>\\\n",
    "    span.str {color:#BA2121; font-style:italic; font-weight:bold;}\\\n",
    "    span.num {color:#080; font-style:italic; font-weight:bold;}\\\n",
    "    span.bltn {color:#080; font-weight:bold;}\\\n",
    "    span.op {color:#AA22FF;}\\\n",
    "    span.func {color:#00F;}\\\n",
    "    h3.yt {color:#009900; font-style:italic;}\\\n",
    "    span.yt {color:#009900; font-style:italic;}</style>\"\n",
    ")"
   ]
  },
  {
   "cell_type": "markdown",
   "id": "764e1fcc",
   "metadata": {},
   "source": [
    "<h2><u>Case Study: Wholesale Market Prices: Organic versus Conventional - Part 2</u></h2>\n",
    "\n",
    "In this Case Study you will practice reading and working with data that is stored in different file formats. More specifically, you will work with <b><i>text files (.txt)</i></b>, <b><i>comma-seperated values files</i></b> (.csv), and <b><i>Excel spreadsheets (.xls)</i></b>. \n",
    "\n",
    "<h3><b><i>Background</i></b></h3>\n",
    "This Case Study continues examining the <b><i>Wholesale Market Price</i></b> dataset from the USDA.\n",
    "\n",
    "<h3><b><i>Goal</i></b></h3>\n",
    "The goal of this Case Study is to examine wholesale market prices for organic and conventional produce for selected vegetables in the years <b><i>2012 & 2013</i></b>. You will practice what you've learned in DataCamp's <a href = \"https://learn.datacamp.com/courses/python-data-science-toolbox-part-2\">Python Data Science Toolbox (Part 2)</a> and <a href = \"https://learn.datacamp.com/courses/introduction-to-importing-data-in-python\">Introduction to Importing Data with Python</a> by importing and working with different file types</i></b> to access, visualize, and examine the data. \n",
    "\n",
    "<h3><b><i>Data</i></b></h3>\n",
    "The dataset used in this exercise is the <a href = \"https://www.ers.usda.gov/data-products/organic-prices.aspx\"> Wholesale Market Prices dataset</a> from the USDA [1]. This data contains wholesale prices for both organic and conventional produce for the years 2012 & 2013. This dataset includes price per month, the amount of produce for the wholesale price, as well as other data. You will be working with modified subsets of the 2012 & 2013 data stored as <b><i>.txt</i></b> and <b><i>.csv</i></b> files as well as the original data which is stored in an <b><i>Excel spreadsheet</i></b>. \n",
    "\n",
    "Sources: \n",
    "<ol style = \"font-size:8px\">\n",
    "    <li>USDA. 2021. Organic Price : Wholesale vegetable prices, organic and conventional, monthly and annual, 2012-13. USDA ERS. https://www.ers.usda.gov/data-products/organic-prices.aspx </li>\n",
    "</ol>\n",
    "\n"
   ]
  },
  {
   "cell_type": "markdown",
   "id": "e8428632",
   "metadata": {},
   "source": [
    "<h3>Flat file imports</h3>\n",
    "\n",
    "In this section, you will practice <span class=\"bltn\">opening</span> and <span class=\"bltn\">reading</span> <b><i>csv</i></b> and <b><i>text</i></b> files. "
   ]
  },
  {
   "cell_type": "markdown",
   "id": "34d0c789",
   "metadata": {},
   "source": [
    "<h4><u>Import Statements</u></h4>"
   ]
  },
  {
   "cell_type": "code",
   "execution_count": 11,
   "id": "7700f764",
   "metadata": {},
   "outputs": [],
   "source": [
    "# Import libraries and modules here\n",
    "import pandas as pd\n",
    "import numpy as np\n",
    "import matplotlib.pyplot as plt"
   ]
  },
  {
   "cell_type": "markdown",
   "id": "e22b3976",
   "metadata": {},
   "source": [
    "<h4><u>Setting the File Names</u></h4>\n",
    "\n",
    "The <span class=\"str\">file_name</span> and <span class=\"str\">file_name_csv</span> variables contain the file path and name of the <b><i>text</i></b> and <b><i>csv</i></b> files used for this section. Both of these files contain the same data. "
   ]
  },
  {
   "cell_type": "code",
   "execution_count": 12,
   "id": "4493d178",
   "metadata": {},
   "outputs": [],
   "source": [
    "# file names to use\n",
    "file_name = 'Data/Vegetables_2012_Cleaned.txt'\n",
    "file_name_csv = 'Data/Vegetables_2012_Cleaned.csv'"
   ]
  },
  {
   "cell_type": "markdown",
   "id": "5495239a",
   "metadata": {},
   "source": [
    "<h4><u>Opening and Reading a Text File</u></h4>\n",
    "\n",
    "In the cell below the file specified by <b><i>file_name</i></b> is first <span class=\"bltn\">opened</span> as a <b><i>file</i></b> object. More information on file objects can be found in <a href = \"https://docs.python.org/3/tutorial/inputoutput.html\"> Python's Input and Output Documentation</a>. A <span class=\"bltn\">for </span> loop is used to read in the first four lines of the text file with the <b>readline</b> method and <span class=\"bltn\">printed</span>. The <span class=\"bltn\">type</span> fifth line in <b><i>file_name</i></b> is read in and the <span class=\"bltn\">type</span> printed. The <b><i>file</i></b> is then <b>closed</b>."
   ]
  },
  {
   "cell_type": "code",
   "execution_count": 13,
   "id": "7e16d81f",
   "metadata": {},
   "outputs": [
    {
     "ename": "IndentationError",
     "evalue": "expected an indented block (<ipython-input-13-d8e81c6dbe57>, line 10)",
     "output_type": "error",
     "traceback": [
      "\u001b[1;36m  File \u001b[1;32m\"<ipython-input-13-d8e81c6dbe57>\"\u001b[1;36m, line \u001b[1;32m10\u001b[0m\n\u001b[1;33m    file.close()\u001b[0m\n\u001b[1;37m                ^\u001b[0m\n\u001b[1;31mIndentationError\u001b[0m\u001b[1;31m:\u001b[0m expected an indented block\n"
     ]
    }
   ],
   "source": [
    "# Read and print the first four lines of the file using the with open('file_name') as file syntax. \n",
    "# For the fifth line of the file, print the data type returned by file.readline()\n",
    "with open(file_name) as file: \n",
    "    for i in range(0, 4): \n",
    "        # print lines 1 - 4 of the file with file.readline() and print\n",
    "        \n",
    "    # print 5th file.readline()'s data type\n",
    "\n",
    "# Close the file \n",
    "file.close()"
   ]
  },
  {
   "cell_type": "markdown",
   "id": "754237ab",
   "metadata": {},
   "source": [
    "<h4><u>Opening and Reading a Text File with NumPy</u></h4>\n",
    "\n",
    "The variable <b><i>ws_np</i></b> contains the results of reading in a <b><i>text</i></b> file using NumPy's <b>loadtxt</b> function. Let's read the <b><i>Wholesale Market Price</i></b> data in using this. "
   ]
  },
  {
   "cell_type": "code",
   "execution_count": 14,
   "id": "4a3c6e25",
   "metadata": {},
   "outputs": [
    {
     "ename": "SyntaxError",
     "evalue": "invalid syntax (<ipython-input-14-6391156323df>, line 3)",
     "output_type": "error",
     "traceback": [
      "\u001b[1;36m  File \u001b[1;32m\"<ipython-input-14-6391156323df>\"\u001b[1;36m, line \u001b[1;32m3\u001b[0m\n\u001b[1;33m    ws_np =\u001b[0m\n\u001b[1;37m            ^\u001b[0m\n\u001b[1;31mSyntaxError\u001b[0m\u001b[1;31m:\u001b[0m invalid syntax\n"
     ]
    }
   ],
   "source": [
    "# Import the file stored in the file_name variable with NumPy using np.loadtxt(file_name, delimiter =\",\",, dtype = 'str') and store in\n",
    "# a variable ws_np\n",
    "ws_np = \n",
    "\n",
    "# Print the result \n"
   ]
  },
  {
   "cell_type": "markdown",
   "id": "8db55371",
   "metadata": {},
   "source": [
    "<h4><u>NumPy Loadtxt Error</u></h4>\n",
    "\n",
    "The first row of the <b><i>Vegetables_2012_Cleaned.txt</i></b> file which contains the data description (row at <span class=\"num\">position 0</span> for Python) was purposely not skipped in the cell above. The result is that NumPy's loadtxt function cannot read the file.\n",
    "\n",
    "The first line in the file contains the text: <span class=\"str\">\" Wholesale vegetable prices, organic and conventional, monthly and annual, 2012\"</span>.  Can you guess why there is a problem reading in this line? \n",
    "\n",
    "To fix this add skiprows = 0 to np.loadtxt() to skip the first row of the file."
   ]
  },
  {
   "cell_type": "code",
   "execution_count": 15,
   "id": "c81d69da",
   "metadata": {},
   "outputs": [
    {
     "ename": "SyntaxError",
     "evalue": "invalid syntax (<ipython-input-15-c4b75bc5f532>, line 3)",
     "output_type": "error",
     "traceback": [
      "\u001b[1;36m  File \u001b[1;32m\"<ipython-input-15-c4b75bc5f532>\"\u001b[1;36m, line \u001b[1;32m3\u001b[0m\n\u001b[1;33m    ws_np =\u001b[0m\n\u001b[1;37m            ^\u001b[0m\n\u001b[1;31mSyntaxError\u001b[0m\u001b[1;31m:\u001b[0m invalid syntax\n"
     ]
    }
   ],
   "source": [
    "# Import the file stored in the file_name variable with NumPy using np.loadtxt(file_name, delimiter =\",\", dtype = 'str', skiprows = 2) \n",
    "# and store in variable ws_np\n",
    "ws_np = \n",
    "\n",
    "# print the contents of the op_np variable\n"
   ]
  },
  {
   "cell_type": "markdown",
   "id": "20e34cf1",
   "metadata": {},
   "source": [
    "<h4><u>NumPy Loadtxt Error - Discussion </u></h4>\n",
    "\n",
    "NumPy's <b>loadtxt</b> function was able to load the text file the second time due to the first row of the text file being skipped using <b><i>skiprows</i></b> <span class=\"op\">=</span> <span class=\"num\">1</span>. This allowed the <span class=\"str\">\"Wholesale vegetable prices, organic and conventional, monthly and annual, 2012\"</span> row to be skipped. The problem occurs due to the loadtxt function parsing each <span class=\"str\">\",\"</span> in that phrase. \n",
    "\n",
    "The <span class=\"str\">\",\"</span> character was specified as the <b><i>delimiter</i></b> for the <b>loadtxt</b> function which led it to treating the string <span class = \"str\">\"Wholesale vegetable prices, organic and conventional, monthly and annual, 2012\"</span> as seperate values. This resulted in more columns in the first row than existed in the rest of the dataset. \n",
    "\n",
    "The rest of the <b><i>'Vegetables_2012_Cleaned.txt'</i></b> has had the commas removed so that it can be loaded in correctly with the <b>loadtxt</b> function. Another potentional solution is to use a different <b><i>delimiter</i></b> instead of <span class=\"str\">\",\"</span>. "
   ]
  },
  {
   "cell_type": "markdown",
   "id": "6fda0c26",
   "metadata": {},
   "source": [
    "<h4><u>Accessing Loadtxt's Multidimensional Array</u></h4>\n",
    "\n",
    "The value returned by <b>loadtxt</b> is a <b><i>multidimensional array</i></b>. <span class=\"bltn\">Print</span> the data <span class=\"bltn\">type</span> of <b><i>ws_np</i></b>. Access and <span class=\"bltn\">print</span> the value in the 8th column <span class=\"num\">index 7</span> in the first row <span class=\"num\">index 0</span>. Then <span class=\"bltn\">print</span> the <span class=\"bltn\">type</span> of that value. "
   ]
  },
  {
   "cell_type": "code",
   "execution_count": 16,
   "id": "ac309865",
   "metadata": {},
   "outputs": [],
   "source": [
    "# Print the type of the ws_np variable\n",
    "\n",
    "# Print the value and its type for the value located at ws_np[0][:][7]\n"
   ]
  },
  {
   "cell_type": "markdown",
   "id": "af81b228",
   "metadata": {},
   "source": [
    "<h4><u>Reading Text and CSV Files with Pandas</u></h4>\n",
    "\n",
    "Pandas can also be used to read a text file using <b>read_csv</b>. The <b>read_csv</b> function can also be used to read in <b><i>csv</i></b> files into a <b><i>DataFrame</i></b>. In the Code cell below the <b><i>text</i></b> file, <b><i>file_name</i></b> is stored in the variable <b><i>ws_txt_df</i></b>. "
   ]
  },
  {
   "cell_type": "code",
   "execution_count": 17,
   "id": "0faf9ec3",
   "metadata": {},
   "outputs": [
    {
     "ename": "SyntaxError",
     "evalue": "invalid syntax (<ipython-input-17-50f19a555be0>, line 2)",
     "output_type": "error",
     "traceback": [
      "\u001b[1;36m  File \u001b[1;32m\"<ipython-input-17-50f19a555be0>\"\u001b[1;36m, line \u001b[1;32m2\u001b[0m\n\u001b[1;33m    ws_txt_df =\u001b[0m\n\u001b[1;37m                ^\u001b[0m\n\u001b[1;31mSyntaxError\u001b[0m\u001b[1;31m:\u001b[0m invalid syntax\n"
     ]
    }
   ],
   "source": [
    "# Read in the text file file_name variable using pandas and store as ws_txt_df with pd.read_csv(file_name)\n",
    "ws_txt_df = "
   ]
  },
  {
   "cell_type": "markdown",
   "id": "697be623",
   "metadata": {},
   "source": [
    "In the Code cell below the <b><i>csv</i></b> file is read in as <b><i>ws_csv_df</i></b>. "
   ]
  },
  {
   "cell_type": "code",
   "execution_count": 18,
   "id": "e020d9ba",
   "metadata": {},
   "outputs": [
    {
     "ename": "SyntaxError",
     "evalue": "invalid syntax (<ipython-input-18-b345f3cdf7b0>, line 2)",
     "output_type": "error",
     "traceback": [
      "\u001b[1;36m  File \u001b[1;32m\"<ipython-input-18-b345f3cdf7b0>\"\u001b[1;36m, line \u001b[1;32m2\u001b[0m\n\u001b[1;33m    ws_csv_df =\u001b[0m\n\u001b[1;37m               ^\u001b[0m\n\u001b[1;31mSyntaxError\u001b[0m\u001b[1;31m:\u001b[0m invalid syntax\n"
     ]
    }
   ],
   "source": [
    "# Read in the csv file file_name csv using pandas and store as ws_csv_df with pd.read_csv(file_name_csv)\n",
    "ws_csv_df ="
   ]
  },
  {
   "cell_type": "markdown",
   "id": "d1e7b513",
   "metadata": {},
   "source": [
    "Next let's check to see if the contents of the two <b><i>DataFrames</i></b> are equal using the <b>equals</b> method. "
   ]
  },
  {
   "cell_type": "code",
   "execution_count": 19,
   "id": "7430cee5",
   "metadata": {},
   "outputs": [],
   "source": [
    "# Test if ws_txt_df is equal to ws_csv_df using ws_txt_df.equals(ws_csv_df)\n"
   ]
  },
  {
   "cell_type": "markdown",
   "id": "b7e96d27",
   "metadata": {},
   "source": [
    "<h3>Working with Excel spreadsheets</h3>\n",
    "\n",
    "In this section, you will practice reading the <b><i>Wholesale Market Price</i></b> data that is stored in an <b><i> Excel Spreadsheet</i></b>. "
   ]
  },
  {
   "cell_type": "markdown",
   "id": "cb57f092",
   "metadata": {},
   "source": [
    "<h4><u>Reading a Spreadsheet with Pandas</u></h4>\n",
    "\n",
    "The <span class=\"str\">xls_file</span> contains the file path and name of a <b><i>spreadsheet</i></b> containing two <b><i>sheets</i></b>. <b><i>ExcelFile</i></b> is used to read the file into an <b><i>ExcelFile</i></b> object called <b><i>ws_xls_df</i></b>. The names of the <b><i>sheets</i></b> in the spreadsheet are then accessed using <b><i>.sheet_names</i></b> and the results <span class=\"bltn\">printed</span>. "
   ]
  },
  {
   "cell_type": "code",
   "execution_count": 20,
   "id": "a0cc671f",
   "metadata": {},
   "outputs": [
    {
     "ename": "SyntaxError",
     "evalue": "invalid syntax (<ipython-input-20-220ae12ad55a>, line 5)",
     "output_type": "error",
     "traceback": [
      "\u001b[1;36m  File \u001b[1;32m\"<ipython-input-20-220ae12ad55a>\"\u001b[1;36m, line \u001b[1;32m5\u001b[0m\n\u001b[1;33m    ws_xls_df =\u001b[0m\n\u001b[1;37m                ^\u001b[0m\n\u001b[1;31mSyntaxError\u001b[0m\u001b[1;31m:\u001b[0m invalid syntax\n"
     ]
    }
   ],
   "source": [
    "# File name for Excel spreadsheet\n",
    "xls_file = 'Data/Vegetables.xls'\n",
    "\n",
    "# Import the Excel spreadsheet using panda's pd.ExcelFile(). Store in a variable ws_xls_df\n",
    "ws_xls_df = \n",
    "\n",
    "# Print the sheet names using .sheet_names with the variable you just created in the line of code above \n"
   ]
  },
  {
   "cell_type": "markdown",
   "id": "d7f1c1d2",
   "metadata": {},
   "source": [
    "<h4><u>Loading a Sheet</u></h4>\n",
    "\n",
    "Now that we know the names of the <b><i>sheets</i></b>, we can <b><i>parse</i></b> one into a <b><i>DataFrame</i></b> called <b><i>ws_12_df</i></b>. "
   ]
  },
  {
   "cell_type": "code",
   "execution_count": 21,
   "id": "8ec0b9e2",
   "metadata": {},
   "outputs": [
    {
     "ename": "SyntaxError",
     "evalue": "invalid syntax (<ipython-input-21-b5ade94f9bee>, line 3)",
     "output_type": "error",
     "traceback": [
      "\u001b[1;36m  File \u001b[1;32m\"<ipython-input-21-b5ade94f9bee>\"\u001b[1;36m, line \u001b[1;32m3\u001b[0m\n\u001b[1;33m    ws_12_df =\u001b[0m\n\u001b[1;37m               ^\u001b[0m\n\u001b[1;31mSyntaxError\u001b[0m\u001b[1;31m:\u001b[0m invalid syntax\n"
     ]
    }
   ],
   "source": [
    "# Load the 2012 sheet.  Use the variable name ws_12_df.parse() and read in the '2012' sheet.\n",
    "# Skip the first row of the spreadsheet skiprows = [0] because this contains the a summary of the data, not the column names. \n",
    "ws_12_df = \n",
    "\n",
    "# Display the ws_12_df using .head()\n"
   ]
  },
  {
   "cell_type": "markdown",
   "id": "5a15b743",
   "metadata": {},
   "source": [
    "<h4><u>Modifying DataFrame Column Names</u></h4>\n",
    "\n",
    "The original column names in the <span class=\"str\">2012</span> sheet are rather long. Let's update them with new names by creating a <span class=\"bltn\">list</span> containing the updated names as <span class=\"str\">strings</span> then setting the <b><i>columns</i></b> of <b><i>ws_12_df</i></b> to the <span class=\"bltn\">list</span> "
   ]
  },
  {
   "cell_type": "code",
   "execution_count": 22,
   "id": "03066cf5",
   "metadata": {},
   "outputs": [
    {
     "ename": "SyntaxError",
     "evalue": "invalid syntax (<ipython-input-22-9c09b164c70c>, line 5)",
     "output_type": "error",
     "traceback": [
      "\u001b[1;36m  File \u001b[1;32m\"<ipython-input-22-9c09b164c70c>\"\u001b[1;36m, line \u001b[1;32m5\u001b[0m\n\u001b[1;33m    ws_12_df.columns =\u001b[0m\n\u001b[1;37m                       ^\u001b[0m\n\u001b[1;31mSyntaxError\u001b[0m\u001b[1;31m:\u001b[0m invalid syntax\n"
     ]
    }
   ],
   "source": [
    "# Let's replace the headings with more uniform names\n",
    "new_col = ['Commodity', 'Subgroup', 'Package', 'Method', 'Terminal Market', 'Jan', 'Feb', 'Mar', 'Apr', 'May', 'Jun', 'Jul', 'Aug', 'Sep', 'Oct', 'Nov', 'Dec', 'Year']\n",
    "\n",
    "# Set the ws_12_df.columns equal to the new column names. \n",
    "ws_12_df.columns = \n",
    "\n",
    "# Check that the column names have been updated by printing the first 5 rows of the DataFrame \n"
   ]
  },
  {
   "cell_type": "markdown",
   "id": "c5865ca6",
   "metadata": {},
   "source": [
    "<h4><u>Plotting the Data</u></h4>\n",
    "Let's plot some of the data stored in <b><i>ws_12_df</i></b>. In the Code cell below, a <b><i>plot</i></b> is created displaying the <i>Months</i> on the x-axis and the <i>Price</i> of organically grown artichoke. A <b><i>scatterplot</i></b> is then overlaid on the same figure resulting in a line graph with data points. "
   ]
  },
  {
   "cell_type": "code",
   "execution_count": 23,
   "id": "074f3352",
   "metadata": {},
   "outputs": [
    {
     "ename": "NameError",
     "evalue": "name 'ws_12_df' is not defined",
     "output_type": "error",
     "traceback": [
      "\u001b[1;31m---------------------------------------------------------------------------\u001b[0m",
      "\u001b[1;31mNameError\u001b[0m                                 Traceback (most recent call last)",
      "\u001b[1;32m<ipython-input-23-cf9b74b6c23c>\u001b[0m in \u001b[0;36m<module>\u001b[1;34m\u001b[0m\n\u001b[0;32m      2\u001b[0m \u001b[1;33m\u001b[0m\u001b[0m\n\u001b[0;32m      3\u001b[0m \u001b[1;31m# Store the monthly prices for organic artichoke in 2012 as the variable o_a_12\u001b[0m\u001b[1;33m\u001b[0m\u001b[1;33m\u001b[0m\u001b[1;33m\u001b[0m\u001b[0m\n\u001b[1;32m----> 4\u001b[1;33m \u001b[0mo_a_12\u001b[0m \u001b[1;33m=\u001b[0m \u001b[0mws_12_df\u001b[0m\u001b[1;33m.\u001b[0m\u001b[0miloc\u001b[0m\u001b[1;33m[\u001b[0m\u001b[1;36m0\u001b[0m\u001b[1;33m,\u001b[0m \u001b[1;36m5\u001b[0m\u001b[1;33m:\u001b[0m\u001b[1;36m17\u001b[0m\u001b[1;33m]\u001b[0m\u001b[1;33m\u001b[0m\u001b[1;33m\u001b[0m\u001b[0m\n\u001b[0m\u001b[0;32m      5\u001b[0m \u001b[1;33m\u001b[0m\u001b[0m\n\u001b[0;32m      6\u001b[0m \u001b[1;31m# Set the title, x-axis and y-axis labels\u001b[0m\u001b[1;33m\u001b[0m\u001b[1;33m\u001b[0m\u001b[1;33m\u001b[0m\u001b[0m\n",
      "\u001b[1;31mNameError\u001b[0m: name 'ws_12_df' is not defined"
     ]
    }
   ],
   "source": [
    "# Plot the price of organically grown artichoke for each of the 12 months. \n",
    "\n",
    "# Store the monthly prices for organic artichoke in 2012 as the variable o_a_12\n",
    "o_a_12 = ws_12_df.iloc[0, 5:17]\n",
    "\n",
    "# Set the title, x-axis and y-axis labels\n",
    "plt.title(\"Monthly Price of Organic Artichoke (2012)\")\n",
    "plt.xlabel(\"Month\")\n",
    "plt.ylabel(\"Price per 24s Carton\")\n",
    "\n",
    "plt.plot(o_a_12)\n",
    "plt.scatter(new_col[5:17], o_a_12)\n",
    "plt.show()"
   ]
  },
  {
   "cell_type": "markdown",
   "id": "8ce62636",
   "metadata": {},
   "source": [
    "<h3 class=\"yt\">Your Turn: 1</h3>\n",
    "<b><i>Read</i></b> and <span class=\"bltn\"> print</span> the first <span class=\"num\">10 lines</span> in the the <span class=\"str\">'Vegetables_2013_Cleaned.txt'</span> file. Use the <span class=\"bltn\">with open () as file:</span> syntax. "
   ]
  },
  {
   "cell_type": "code",
   "execution_count": null,
   "id": "f7a4aea6",
   "metadata": {},
   "outputs": [],
   "source": []
  },
  {
   "cell_type": "markdown",
   "id": "6fe70e91",
   "metadata": {},
   "source": [
    "<h3 class=\"yt\">Your Turn: 2</h3>\n",
    "Read in the <span class=\"str\">'Vegetables.xls'</span> file and open the <b><i>2013</i></b> spreadsheet using pandas <b>ExcelFile</b> and <b>parse</b> functions. <b><i>Skip</b></i> the <span class=\"num\">first row</span> of the 2013 spreadsheet."
   ]
  },
  {
   "cell_type": "code",
   "execution_count": null,
   "id": "acb07f83",
   "metadata": {},
   "outputs": [],
   "source": []
  },
  {
   "cell_type": "markdown",
   "id": "18e74f7a",
   "metadata": {},
   "source": [
    "<h3 class=\"yt\">Your Turn: 3 </h3>\n",
    "Replace the column names in the DataFrame you created in <span class=\"yt\">Your Turn 2</span> with the column names stored in the previously created <b><i>new_col</i></b> variable. Display the updated DataFrame using the <b>.head()</b> method. \n"
   ]
  },
  {
   "cell_type": "code",
   "execution_count": null,
   "id": "70347bdf",
   "metadata": {},
   "outputs": [],
   "source": []
  },
  {
   "cell_type": "markdown",
   "id": "322c8b8a",
   "metadata": {},
   "source": [
    "<h3 class=\"yt\">Your Turn: 4 </h3>\n",
    "Create a <b><i>figure</i></b> displaying the <b><i>monthly prices for conventionally grown cabbage from Atlanta during 2013</i></b>. You can choose to use any type of figure or plot used so far in this course or choose one of your own from the MatPlotLib documentation. \n",
    "\n",
    "Make sure the figure has a <b><i>title</i></b> and that the <b><i>axes</i></b> are labeled. "
   ]
  },
  {
   "cell_type": "code",
   "execution_count": null,
   "id": "fa1147eb",
   "metadata": {},
   "outputs": [],
   "source": []
  },
  {
   "cell_type": "code",
   "execution_count": null,
   "id": "3cdf515f",
   "metadata": {},
   "outputs": [],
   "source": []
  }
 ],
 "metadata": {
  "kernelspec": {
   "display_name": "Python 3",
   "language": "python",
   "name": "python3"
  },
  "language_info": {
   "codemirror_mode": {
    "name": "ipython",
    "version": 3
   },
   "file_extension": ".py",
   "mimetype": "text/x-python",
   "name": "python",
   "nbconvert_exporter": "python",
   "pygments_lexer": "ipython3",
   "version": "3.8.10"
  }
 },
 "nbformat": 4,
 "nbformat_minor": 5
}
